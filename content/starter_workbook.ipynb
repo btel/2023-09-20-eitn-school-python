{
 "cells": [
  {
   "cell_type": "markdown",
   "id": "045578a9-2b2d-4781-b4eb-b89ab33c5230",
   "metadata": {},
   "source": [
    "## Intro\n"
   ]
  },
  {
   "cell_type": "markdown",
   "id": "5e862480-ec4d-426f-b536-f3900c44a09b",
   "metadata": {},
   "source": [
    "It's not a step-by-step introduction to Python programming, check out Software Carpentry lessons and join one of their workshops around your place: https://swcarpentry.github.io/python-novice-inflammation/, but:\n",
    "\n",
    "\n",
    "* Python is meant to resemble a human language\n",
    "* you can go long way without knowing the details of Python syntax,\n",
    "* just load some data and start playing with it\n",
    "* you can start to use Python to replace your excel sheets or statistical package or create simple graphs to share with colleagues\n",
    "* you can also use python as a programmable calculator\n",
    "* we will focus on data analysis\n",
    "* it's a tutorial not a lecture, let's make it interactive"
   ]
  },
  {
   "cell_type": "markdown",
   "id": "de3bcc43-1c09-4268-9220-3a6507bf5957",
   "metadata": {},
   "source": [
    "#### Discussion\n",
    "\n",
    "* How many people are familiar with Python? \n",
    "* What are the main uses?\n",
    "* Are you familiar with other programming languages?\n",
    "* Do you have a working Jupyter installation?"
   ]
  },
  {
   "cell_type": "markdown",
   "id": "3b06817c-f5a3-4940-b0a1-15e454f4712e",
   "metadata": {},
   "source": [
    "## Using Jupyter lab\n",
    "\n",
    "> ⚠️ If you don't have Jupyter installation, you can use the browser-based distribution (Jupyterlite) by following the link:\n",
    ">\n",
    ">  https://btel.github.io/2023-09-20-eitn-school-python\n",
    "\n",
    "* moving around\n",
    "* editing mode\n",
    "* executing cells\n",
    "* getting help\n",
    "* keyboard shorcuts: \n",
    "  - Enter (to enter edito mode), \n",
    "  - Shit-Enter (Run), \n",
    "  - Esc (enter command mode), \n",
    "  - M (markdown, in command mode), \n",
    "  - X (remove cell, in command mode)\n",
    "  - b (command mode, insert new cell below)"
   ]
  },
  {
   "cell_type": "markdown",
   "id": "7448f261-0322-432f-bfc4-aa70facf5da3",
   "metadata": {},
   "source": [
    "## Basic Python\n",
    "\n",
    "##### expressions:\n",
    "\n",
    "  ```python\n",
    "  a = 4\n",
    "  b = a + 1\n",
    "  print(f\"{a} + 1 = {b}\")\n",
    "  ```\n",
    "\n",
    "##### data structures\n",
    "\n",
    "  ```python\n",
    "  # list\n",
    "  my_list = [1, 5, 6]\n",
    "  print(my_list[0])\n",
    "\n",
    "  # string\n",
    "  my_string = \"hello world\"\n",
    "\n",
    "  # tuple\n",
    "  my_tuple = (4, 5)\n",
    "  x, y = my_tuple\n",
    "\n",
    "  # dictionary\n",
    "  my_dict = {'a': 1, 'b': 3}\n",
    "  print(my_dict['a']) \n",
    "\n",
    "```\n",
    "\n",
    "##### conditionals:\n",
    "\n",
    "  ```python\n",
    "  if a > 0:\n",
    "     print(\"a is positive\")\n",
    "  ```\n",
    "\n",
    "##### loops\n",
    "\n",
    "  ```python\n",
    "  my_list = [1, 2, 3, 4]\n",
    "  for i in range(4):\n",
    "      print(my_list[i])\n",
    "  ```\n",
    "\n",
    "##### functions\n",
    "\n",
    "  ```python\n",
    "  def my_function(a):\n",
    "      return a + 1\n",
    "  print(my_function(5))\n",
    "  ```\n"
   ]
  },
  {
   "cell_type": "markdown",
   "id": "45224a54-40d3-4f10-85cb-6bc76708c609",
   "metadata": {},
   "source": [
    "### Quiz\n",
    "\n",
    "Name the type of the following data structures:\n",
    "\n",
    "  a) `var_a = {'k': 0, 'l': 5}`\n",
    "\n",
    "  b) `var_b = \"Paris\"`\n",
    "  \n",
    "  c) `var_c = ('hello', 'world')`\n",
    "  \n",
    "  d) `var_d = [(1, 1), (2, 2),  (3, 3)]`\n",
    "\n",
    "What are the values of the following expressions:\n",
    "\n",
    "  a) `var_a['k']`\n",
    "  \n",
    "  b) `var_b[1]`\n",
    "  \n",
    "  c) `var_d[2]`\n",
    "  \n",
    "  d) `var_a[1]`"
   ]
  },
  {
   "cell_type": "markdown",
   "id": "0412ffe0-b34c-4c8c-9071-50ed8e7613f7",
   "metadata": {},
   "source": [
    "## Importing and exploring data"
   ]
  },
  {
   "cell_type": "markdown",
   "id": "fbb1e72b-1b9b-4f65-84ae-e48de96458de",
   "metadata": {},
   "source": [
    "* importing libraries\n",
    "* pandas\n",
    "* `read_csv`, `describe`, `head`\n",
    "* `.iloc`, `.loc`"
   ]
  },
  {
   "cell_type": "code",
   "execution_count": 1,
   "id": "64eef315-ef2a-4701-824c-c99649e8a394",
   "metadata": {},
   "outputs": [],
   "source": [
    "import pandas as pd\n",
    "import matplotlib"
   ]
  },
  {
   "cell_type": "code",
   "execution_count": 2,
   "id": "de719267-cc60-49d2-902d-f1ca8b34609f",
   "metadata": {},
   "outputs": [],
   "source": [
    "#url = 'https://raw.githubusercontent.com/btel/2022-09-21-eitn-school/main/eeg_powers.csv'\n",
    "url = 'https://bit.ly/3BTE0A1'\n",
    "\n",
    "# use this command if you don't have the CSV file locally\n",
    "# df = pd.read_csv(url, index_col=0)\n",
    "df = pd.read_csv('eeg_powers.csv', index_col=0)"
   ]
  },
  {
   "cell_type": "markdown",
   "id": "ac626303-c270-488c-a857-0c8d260c5509",
   "metadata": {},
   "source": [
    "Definitions of EEG bands:\n",
    "\n",
    "* delta 0.5 -- 4 Hz\n",
    "* alpha 8 -- 13 Hz,  \n",
    "* beta 13 -- 30 Hz, \n",
    "* gamma: > 30 Hz\n",
    "\n",
    "For details, see my notebook with feature extraction: https://www.kaggle.com/btelenczuk/eeg-extract-features\n"
   ]
  },
  {
   "cell_type": "markdown",
   "id": "57185f90-c13a-4b30-8247-476f26fc7df5",
   "metadata": {},
   "source": [
    "#### Exercise: importing and indexing\n",
    "\n",
    "1) Read the data.\n",
    "2) How many categorical data columns are there?\n",
    "3) (Optional) Display the last 10 rows"
   ]
  },
  {
   "cell_type": "markdown",
   "id": "f6d1a1a6-e5a1-4060-b895-d41acb65212a",
   "metadata": {},
   "source": [
    "## Working with categorical data"
   ]
  },
  {
   "cell_type": "markdown",
   "id": "328fb1d3-b692-46b9-8786-b4fa45d81509",
   "metadata": {},
   "source": [
    "**Goal**\n",
    "* check class names for each categorical column\n",
    "\n",
    "**Functions**\n",
    "* `unique`, `nunique`, `value_counts`"
   ]
  },
  {
   "cell_type": "markdown",
   "id": "0904a5c4-eb56-4423-b2bc-5b222f8f9ffe",
   "metadata": {},
   "source": [
    "## Plotting: time series and distributions"
   ]
  },
  {
   "cell_type": "markdown",
   "id": "768a2469-9752-4c69-8a1e-5e7db3363b14",
   "metadata": {},
   "source": [
    "**Goal**\n",
    "* plot the time series of powers\n",
    "* use subplots\n",
    "* plot distributions with a custom number of bins\n",
    "\n",
    "**Functions**\n",
    "* pandas: `plot` and `hist`"
   ]
  },
  {
   "cell_type": "markdown",
   "id": "620689f9-1dca-4bb4-96be-811198a75844",
   "metadata": {},
   "source": [
    "## Transforming data"
   ]
  },
  {
   "cell_type": "markdown",
   "id": "2fcdb29c-3ce5-4c90-b4cf-dea6fa8c99b6",
   "metadata": {},
   "source": [
    "**Goal**:\n",
    "* \"normalize\" (log) powers distribution\n",
    "* remove zero power rows\n",
    "* replace and/or add columns\n",
    "* use for loop to transfrom all powers columns\n",
    "* replot histograms and observe mulitmodality\n",
    "\n",
    "**Functions**\n",
    "* boolean indexing/masking/filtering\n",
    "* `.apply`\n",
    "* `.copy`\n",
    "* for loops"
   ]
  },
  {
   "cell_type": "markdown",
   "id": "2f930f42-1c51-4a61-84c8-daa531ec15c2",
   "metadata": {},
   "source": [
    "#### Discussion\n",
    "\n",
    "What are the reasons for the multimodality?\n",
    "\n",
    "#### Exercise: adding column\n",
    "\n",
    "Create a new column 'total_power' which is the sum of the powers across the 'alpha', 'beta', 'gamma', and 'delta' columns. Plot the histogram"
   ]
  },
  {
   "cell_type": "markdown",
   "id": "17e0ac96-e6b1-4a95-9da1-12aeb97cbbe0",
   "metadata": {},
   "source": [
    "## Scatter plots\n",
    "\n",
    "**Goal**: \n",
    "* identify dependencies between continous variables (powers) using scatter plot\n",
    "* observe clusters\n",
    "\n",
    "**Functions**\n",
    "* `.plot.scatter` or `.plot(kind='scatter', ...)`"
   ]
  },
  {
   "cell_type": "markdown",
   "id": "5880c4d5-ad3f-4dc1-be1e-83024f7ce154",
   "metadata": {},
   "source": [
    "#### Exercise: plotting\n",
    "\n",
    "We have the following dataset:\n",
    "\n",
    "```\n",
    "data = {\n",
    "    'Value': np.random.randn(100),\n",
    "    'Other Value': np.random.randn(100),\n",
    "    'Category': np.random.choice(['A', 'B', 'C'], size=100)\n",
    "}\n",
    "df = pd.DataFrame(data)\n",
    "```\n",
    "\n",
    "Match the graphs and the plotting functions:\n",
    "\n",
    "1) ```python\n",
    "   df.plot(y='Value')\n",
    "   ```\n",
    "\n",
    "3) ```python\n",
    "   df.plot(kind='scatter', x='Other Value', y='Value')\n",
    "   ```\n",
    "\n",
    "5) ```python\n",
    "   df['Value'].plot.hist(bins=20, title='Histogram')\n",
    "   ```\n",
    "\n",
    "7)\n",
    "   ```python\n",
    "   bar_data = df.groupby('Category')['Value'].mean()\n",
    "   bar_data.plot(kind='bar', ax=axes[1,0])\n",
    "   ```\n",
    "\n",
    "\n",
    "\n",
    "![](graphs.svg)"
   ]
  },
  {
   "cell_type": "markdown",
   "id": "e218fa35-361e-4c0a-aafd-7ee4f1d0216c",
   "metadata": {},
   "source": [
    "## Splitting data\n",
    "\n",
    "**Goal**\n",
    "* split data into distinct subsets (drowsy vs non-drowsy) using boolean indexing\n",
    "* show two sub-sets on a single plot\n",
    "\n",
    "**Function**\n",
    "* Axes object\n",
    "*  boolean indexing\n",
    "* `.isin`\n"
   ]
  },
  {
   "cell_type": "markdown",
   "id": "1511816a-7e96-4882-bcb0-2cd0c746aec8",
   "metadata": {},
   "source": [
    "## Compare groups\n",
    "\n",
    "**Goal**: \n",
    "* explore dependencies between categorical and continuous variables \n",
    "* use groupby the group the rows based on channel name\n",
    "* calculate the mean total power for each channel\n",
    "* plot a bar plot\n",
    "  \n",
    "**Functions**\n",
    "\n",
    "* `.groupby`\n",
    "* `.plot.bar`\n"
   ]
  },
  {
   "cell_type": "markdown",
   "id": "71738c50-73a1-44be-967d-d3453244f507",
   "metadata": {},
   "source": [
    "#### Excercise: low and high channels\n",
    "\n",
    "Redo the scatter graph for low- and high channels."
   ]
  },
  {
   "cell_type": "markdown",
   "id": "ec3c4e32-33c7-4396-bc37-343d657429f2",
   "metadata": {},
   "source": [
    "#### Discussion: EDA\n",
    "\n",
    "What have we learnt from this analysis? Why do we see the two clusters? Why is it important to do Exploratory Data Analysis (EDA)"
   ]
  },
  {
   "cell_type": "markdown",
   "id": "6cd839ef-fa91-4f7c-8994-722c5fac78e5",
   "metadata": {},
   "source": [
    "## Predicting the state"
   ]
  },
  {
   "cell_type": "markdown",
   "id": "3a9a7873-310d-4221-a2aa-607af460433d",
   "metadata": {},
   "source": [
    "**Goal**\n",
    "\n",
    "* use machine learning to predict the brain state from powers"
   ]
  },
  {
   "cell_type": "markdown",
   "id": "2d4902d6-f4d7-4ef6-91e1-bc0e3373a60a",
   "metadata": {},
   "source": [
    "### preprocess data"
   ]
  },
  {
   "cell_type": "markdown",
   "id": "9eb4089b-49a4-4443-9b79-b406d0149029",
   "metadata": {},
   "source": [
    "**Goal**\n",
    "* select features (powers)\n",
    "* split into train and test set\n",
    "* normalize the data\n",
    "\n",
    "**Functions**\n",
    "\n",
    "* `train_test_split`\n",
    "* `StandardScaler`"
   ]
  },
  {
   "cell_type": "code",
   "execution_count": 3,
   "id": "a06fce75-da32-4371-9ffc-6e1a86a6b869",
   "metadata": {},
   "outputs": [],
   "source": [
    "from sklearn.model_selection import train_test_split\n",
    "from sklearn.preprocessing import StandardScaler"
   ]
  },
  {
   "cell_type": "markdown",
   "id": "2f02e51f-2445-4dde-a099-e6f0cbb65808",
   "metadata": {},
   "source": [
    "### fit model\n",
    "\n",
    "**Goal**\n",
    "* choose a model\n",
    "* fit a model on a train set\n",
    "* calculate prediction on a test set\n",
    "* calculate accuracy\n",
    "* data cleaning\n",
    "\n",
    "**Functions**\n",
    "\n",
    "* `LogisticRegression`\n",
    "* `accuracy_score`"
   ]
  },
  {
   "cell_type": "code",
   "execution_count": 4,
   "id": "aae53e44-a724-493a-8d77-cae328c4846f",
   "metadata": {},
   "outputs": [],
   "source": [
    "from sklearn.linear_model import LogisticRegression\n",
    "from sklearn.metrics import accuracy_score\n"
   ]
  },
  {
   "cell_type": "markdown",
   "id": "dab8b36d-f6f3-4666-a422-931edd39a2bc",
   "metadata": {},
   "source": [
    "#### Exercise: improving accuracy\n",
    "\n",
    "1) What is chance accuracy level for this problem?\n",
    "2) What is the accuracy if we apply the analysis only to high channels?"
   ]
  },
  {
   "cell_type": "code",
   "execution_count": null,
   "id": "1bd7bc8d-f8fe-471d-b15a-8662e0061d37",
   "metadata": {},
   "outputs": [],
   "source": []
  }
 ],
 "metadata": {
  "kernelspec": {
   "display_name": "Python 3 (ipykernel)",
   "language": "python",
   "name": "python3"
  },
  "language_info": {
   "codemirror_mode": {
    "name": "ipython",
    "version": 3
   },
   "file_extension": ".py",
   "mimetype": "text/x-python",
   "name": "python",
   "nbconvert_exporter": "python",
   "pygments_lexer": "ipython3",
   "version": "3.11.0"
  }
 },
 "nbformat": 4,
 "nbformat_minor": 5
}
