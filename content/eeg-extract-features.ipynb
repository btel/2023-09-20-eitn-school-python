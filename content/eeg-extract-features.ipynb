{
 "cells": [
  {
   "cell_type": "markdown",
   "id": "1ee8b672",
   "metadata": {
    "papermill": {
     "duration": 0.023843,
     "end_time": "2022-09-22T07:22:46.443323",
     "exception": false,
     "start_time": "2022-09-22T07:22:46.419480",
     "status": "completed"
    },
    "tags": []
   },
   "source": [
    "# EEG Feature Extraction\n"
   ]
  },
  {
   "cell_type": "markdown",
   "id": "7131706d",
   "metadata": {
    "papermill": {
     "duration": 0.018896,
     "end_time": "2022-09-22T07:22:46.482468",
     "exception": false,
     "start_time": "2022-09-22T07:22:46.463572",
     "status": "completed"
    },
    "tags": []
   },
   "source": [
    "## Importing all required libraries\n"
   ]
  },
  {
   "cell_type": "code",
   "execution_count": 1,
   "id": "e40b87dc",
   "metadata": {
    "execution": {
     "iopub.execute_input": "2022-09-22T07:22:46.540103Z",
     "iopub.status.busy": "2022-09-22T07:22:46.539024Z",
     "iopub.status.idle": "2022-09-22T07:22:47.628484Z",
     "shell.execute_reply": "2022-09-22T07:22:47.627610Z",
     "shell.execute_reply.started": "2022-09-22T07:12:02.806360Z"
    },
    "papermill": {
     "duration": 1.125879,
     "end_time": "2022-09-22T07:22:47.628684",
     "exception": false,
     "start_time": "2022-09-22T07:22:46.502805",
     "status": "completed"
    },
    "tags": []
   },
   "outputs": [],
   "source": [
    "import numpy as np\n",
    "import pandas as pd\n",
    "import os\n",
    "import scipy.io\n",
    "\n",
    "import matplotlib.pyplot as plt\n",
    "from scipy import signal"
   ]
  },
  {
   "cell_type": "markdown",
   "id": "35c1ee6d",
   "metadata": {
    "papermill": {
     "duration": 0.01886,
     "end_time": "2022-09-22T07:22:47.666070",
     "exception": false,
     "start_time": "2022-09-22T07:22:47.647210",
     "status": "completed"
    },
    "tags": []
   },
   "source": [
    "## Importing data"
   ]
  },
  {
   "cell_type": "markdown",
   "id": "199aa1eb",
   "metadata": {
    "papermill": {
     "duration": 0.017674,
     "end_time": "2022-09-22T07:22:47.701853",
     "exception": false,
     "start_time": "2022-09-22T07:22:47.684179",
     "status": "completed"
    },
    "tags": []
   },
   "source": [
    "Open data (in Matlab format)"
   ]
  },
  {
   "cell_type": "code",
   "execution_count": 2,
   "id": "2c273ce6",
   "metadata": {
    "execution": {
     "iopub.execute_input": "2022-09-22T07:22:47.743087Z",
     "iopub.status.busy": "2022-09-22T07:22:47.742352Z",
     "iopub.status.idle": "2022-09-22T07:22:48.452197Z",
     "shell.execute_reply": "2022-09-22T07:22:48.451442Z",
     "shell.execute_reply.started": "2022-09-22T07:12:03.997542Z"
    },
    "papermill": {
     "duration": 0.731283,
     "end_time": "2022-09-22T07:22:48.452349",
     "exception": false,
     "start_time": "2022-09-22T07:22:47.721066",
     "status": "completed"
    },
    "tags": []
   },
   "outputs": [
    {
     "data": {
      "text/plain": [
       "array([[47.,  0.,  0., ...,  0.,  0.,  0.],\n",
       "       [48.,  0.,  0., ...,  0.,  0.,  0.],\n",
       "       [49.,  0.,  0., ...,  0.,  0.,  0.],\n",
       "       ...,\n",
       "       [36.,  0.,  0., ...,  0.,  0.,  0.],\n",
       "       [37.,  0.,  0., ...,  0.,  0.,  0.],\n",
       "       [38.,  0.,  0., ...,  0.,  0.,  0.]])"
      ]
     },
     "execution_count": 2,
     "metadata": {},
     "output_type": "execute_result"
    }
   ],
   "source": [
    "data_root = '../input/eeg-data-for-mental-attention-state-detection/eeg data/EEG Data/'\n",
    "\n",
    "files = os.listdir(data_root)\n",
    "\n",
    "mat = scipy.io.loadmat(data_root + files[1])\n",
    "\n",
    "mat['o']['sampFreq'][0][0][0][0]\n",
    "\n",
    "data = mat['o']['data'][0, 0]\n",
    "FS = mat['o']['sampFreq'][0][0][0][0]\n",
    "\n",
    "data\n"
   ]
  },
  {
   "cell_type": "markdown",
   "id": "76f59d0d",
   "metadata": {
    "papermill": {
     "duration": 0.018124,
     "end_time": "2022-09-22T07:22:48.489133",
     "exception": false,
     "start_time": "2022-09-22T07:22:48.471009",
     "status": "completed"
    },
    "tags": []
   },
   "source": [
    "Define channel names following the descripiton of the data set:\n",
    "\n",
    "4-'EDAF3' 5-'EDF7'\n",
    "6-'EDF3' 7-'EDFC5'\n",
    "8-'EDT7' 9-'EDP7'\n",
    "10-'EDO1' 11-'EDO2'\n",
    "12-'EDP8' 13-'EDT8'\n",
    "14-'EDFC6' 15-'EDF4'\n",
    "16-'EDF8' 17-'EDAF4'"
   ]
  },
  {
   "cell_type": "code",
   "execution_count": 3,
   "id": "93e4b3e3",
   "metadata": {
    "execution": {
     "iopub.execute_input": "2022-09-22T07:22:48.534465Z",
     "iopub.status.busy": "2022-09-22T07:22:48.533709Z",
     "iopub.status.idle": "2022-09-22T07:22:48.536473Z",
     "shell.execute_reply": "2022-09-22T07:22:48.536970Z",
     "shell.execute_reply.started": "2022-09-22T07:12:04.547803Z"
    },
    "papermill": {
     "duration": 0.028058,
     "end_time": "2022-09-22T07:22:48.537164",
     "exception": false,
     "start_time": "2022-09-22T07:22:48.509106",
     "status": "completed"
    },
    "tags": []
   },
   "outputs": [],
   "source": [
    "channel_indices = np.array(range(3, 17))\n",
    "channel_names = ['AF3', 'F7', 'F3', 'FC5', 'T7', 'P7', 'O1', 'O2', 'P8', 'T8', 'FC6', 'F4', 'F8', 'AF4']\n",
    "channel_map = dict(zip(channel_names, channel_indices))"
   ]
  },
  {
   "cell_type": "code",
   "execution_count": 4,
   "id": "c695b121",
   "metadata": {
    "execution": {
     "iopub.execute_input": "2022-09-22T07:22:48.577515Z",
     "iopub.status.busy": "2022-09-22T07:22:48.576773Z",
     "iopub.status.idle": "2022-09-22T07:22:48.582399Z",
     "shell.execute_reply": "2022-09-22T07:22:48.581830Z",
     "shell.execute_reply.started": "2022-09-22T07:12:04.557106Z"
    },
    "papermill": {
     "duration": 0.026951,
     "end_time": "2022-09-22T07:22:48.582575",
     "exception": false,
     "start_time": "2022-09-22T07:22:48.555624",
     "status": "completed"
    },
    "tags": []
   },
   "outputs": [],
   "source": [
    "df = pd.DataFrame.from_dict(data)"
   ]
  },
  {
   "cell_type": "markdown",
   "id": "be704625",
   "metadata": {
    "papermill": {
     "duration": 0.019934,
     "end_time": "2022-09-22T07:22:48.621711",
     "exception": false,
     "start_time": "2022-09-22T07:22:48.601777",
     "status": "completed"
    },
    "tags": []
   },
   "source": [
    "Plot a single channel"
   ]
  },
  {
   "cell_type": "code",
   "execution_count": 5,
   "id": "33caf552",
   "metadata": {
    "execution": {
     "iopub.execute_input": "2022-09-22T07:22:48.670985Z",
     "iopub.status.busy": "2022-09-22T07:22:48.664904Z",
     "iopub.status.idle": "2022-09-22T07:22:48.870274Z",
     "shell.execute_reply": "2022-09-22T07:22:48.869663Z",
     "shell.execute_reply.started": "2022-09-22T07:14:57.580936Z"
    },
    "papermill": {
     "duration": 0.230249,
     "end_time": "2022-09-22T07:22:48.870428",
     "exception": false,
     "start_time": "2022-09-22T07:22:48.640179",
     "status": "completed"
    },
    "tags": []
   },
   "outputs": [
    {
     "data": {
      "text/plain": [
       "Text(0, 0.5, 'EEG channel AF3')"
      ]
     },
     "execution_count": 5,
     "metadata": {},
     "output_type": "execute_result"
    },
    {
     "data": {
      "image/png": "[encoded data removed]",
      "text/plain": [
       "<Figure size 432x288 with 1 Axes>"
      ]
     },
     "metadata": {
      "needs_background": "light"
     },
     "output_type": "display_data"
    }
   ],
   "source": [
    "i_ch = 0\n",
    "time = np.arange(1000) / FS\n",
    "channel = data[:1000, channel_indices[i_ch]]\n",
    "plt.plot(time, channel)\n",
    "plt.xlabel('time (s)')\n",
    "plt.ylabel(f'EEG channel {channel_names[i_ch]}')"
   ]
  },
  {
   "cell_type": "markdown",
   "id": "e4e31458",
   "metadata": {
    "papermill": {
     "duration": 0.019315,
     "end_time": "2022-09-22T07:22:48.910816",
     "exception": false,
     "start_time": "2022-09-22T07:22:48.891501",
     "status": "completed"
    },
    "tags": []
   },
   "source": [
    "## Extract features"
   ]
  },
  {
   "cell_type": "markdown",
   "id": "836d249b",
   "metadata": {
    "papermill": {
     "duration": 0.019732,
     "end_time": "2022-09-22T07:22:48.950276",
     "exception": false,
     "start_time": "2022-09-22T07:22:48.930544",
     "status": "completed"
    },
    "tags": []
   },
   "source": [
    "Define states (according to the comments on the Data source).\n",
    "\n",
    "The states seem to be defined arbitrarily as 10 min adjacent periods.\n",
    "\n",
    "- 1st 10 minutes of data(t=0 min to t=10 min) is for \"focussed\" state\n",
    "- 2nd 10 minutes of data(t=10 min to t=20 min) is for \"unfocussed\" state\n",
    "- Remaining data(t=20 min to onwards) is for \"Drowsed\" state"
   ]
  },
  {
   "cell_type": "code",
   "execution_count": 6,
   "id": "a6ded8cc",
   "metadata": {
    "execution": {
     "iopub.execute_input": "2022-09-22T07:22:48.996207Z",
     "iopub.status.busy": "2022-09-22T07:22:48.995477Z",
     "iopub.status.idle": "2022-09-22T07:22:48.999017Z",
     "shell.execute_reply": "2022-09-22T07:22:48.998314Z",
     "shell.execute_reply.started": "2022-09-22T07:12:04.788988Z"
    },
    "papermill": {
     "duration": 0.029092,
     "end_time": "2022-09-22T07:22:48.999171",
     "exception": false,
     "start_time": "2022-09-22T07:22:48.970079",
     "status": "completed"
    },
    "tags": []
   },
   "outputs": [],
   "source": [
    "states = {\n",
    " 'focused': data[:FS * 10 * 60, :],\n",
    "  'unfocused': data[FS * 10 * 60:FS * 20 * 60, :],\n",
    "  'drowsy': data[FS * 30 * 60:, :],\n",
    "}"
   ]
  },
  {
   "cell_type": "markdown",
   "id": "6b26253d",
   "metadata": {
    "execution": {
     "iopub.execute_input": "2022-09-22T07:17:03.191303Z",
     "iopub.status.busy": "2022-09-22T07:17:03.190526Z",
     "iopub.status.idle": "2022-09-22T07:17:03.199502Z",
     "shell.execute_reply": "2022-09-22T07:17:03.197659Z",
     "shell.execute_reply.started": "2022-09-22T07:17:03.191246Z"
    },
    "papermill": {
     "duration": 0.01956,
     "end_time": "2022-09-22T07:22:49.039250",
     "exception": false,
     "start_time": "2022-09-22T07:22:49.019690",
     "status": "completed"
    },
    "tags": []
   },
   "source": [
    "Define frequency bands"
   ]
  },
  {
   "cell_type": "code",
   "execution_count": 7,
   "id": "240d936f",
   "metadata": {
    "execution": {
     "iopub.execute_input": "2022-09-22T07:22:49.085610Z",
     "iopub.status.busy": "2022-09-22T07:22:49.084911Z",
     "iopub.status.idle": "2022-09-22T07:22:49.087720Z",
     "shell.execute_reply": "2022-09-22T07:22:49.088209Z",
     "shell.execute_reply.started": "2022-09-22T07:12:04.799246Z"
    },
    "papermill": {
     "duration": 0.0294,
     "end_time": "2022-09-22T07:22:49.088394",
     "exception": false,
     "start_time": "2022-09-22T07:22:49.058994",
     "status": "completed"
    },
    "tags": []
   },
   "outputs": [],
   "source": [
    "bands = {'alpha': (8, 13), 'delta': (0.5, 4), 'beta': (13, 30), 'gamma': (30, np.inf)}\n",
    "\n"
   ]
  },
  {
   "cell_type": "code",
   "execution_count": 8,
   "id": "89988d84",
   "metadata": {
    "execution": {
     "iopub.execute_input": "2022-09-22T07:22:49.135232Z",
     "iopub.status.busy": "2022-09-22T07:22:49.134478Z",
     "iopub.status.idle": "2022-09-22T07:22:49.137611Z",
     "shell.execute_reply": "2022-09-22T07:22:49.138135Z",
     "shell.execute_reply.started": "2022-09-22T07:12:04.812304Z"
    },
    "papermill": {
     "duration": 0.030216,
     "end_time": "2022-09-22T07:22:49.138339",
     "exception": false,
     "start_time": "2022-09-22T07:22:49.108123",
     "status": "completed"
    },
    "tags": []
   },
   "outputs": [],
   "source": [
    "def get_data(filename):\n",
    "    mat = scipy.io.loadmat(os.path.join(data_root, filename))\n",
    "    data = mat['o']['data'][0, 0]\n",
    "    FS = mat['o']['sampFreq'][0][0][0][0]\n",
    "\n",
    "    states = {\n",
    "     'focused': data[:FS * 10 * 60, :],\n",
    "      'unfocused': data[FS * 10 * 60:FS * 20 * 60, :],\n",
    "      'drowsy': data[FS * 30 * 60:, :],\n",
    "    }\n",
    "    return states"
   ]
  },
  {
   "cell_type": "code",
   "execution_count": 9,
   "id": "bcb09003",
   "metadata": {
    "execution": {
     "iopub.execute_input": "2022-09-22T07:22:49.186866Z",
     "iopub.status.busy": "2022-09-22T07:22:49.185818Z",
     "iopub.status.idle": "2022-09-22T07:22:49.188989Z",
     "shell.execute_reply": "2022-09-22T07:22:49.188294Z",
     "shell.execute_reply.started": "2022-09-22T07:12:04.823661Z"
    },
    "papermill": {
     "duration": 0.030271,
     "end_time": "2022-09-22T07:22:49.189145",
     "exception": false,
     "start_time": "2022-09-22T07:22:49.158874",
     "status": "completed"
    },
    "tags": []
   },
   "outputs": [],
   "source": [
    "def get_powers(channel, FS=128):\n",
    "    channel = channel - channel.mean()\n",
    "    freq, psd = signal.periodogram(channel, fs=FS, nfft=256)\n",
    "\n",
    "    powers = {}\n",
    "    for band_name, band_limits in bands.items():\n",
    "        low, high = band_limits\n",
    "        powers[band_name] = psd[(freq >= low) & (freq < high)].mean()\n",
    "    return powers"
   ]
  },
  {
   "cell_type": "markdown",
   "id": "d6a077f5",
   "metadata": {
    "papermill": {
     "duration": 0.019948,
     "end_time": "2022-09-22T07:22:49.230784",
     "exception": false,
     "start_time": "2022-09-22T07:22:49.210836",
     "status": "completed"
    },
    "tags": []
   },
   "source": [
    "Select subjects"
   ]
  },
  {
   "cell_type": "code",
   "execution_count": 10,
   "id": "df200ab3",
   "metadata": {
    "execution": {
     "iopub.execute_input": "2022-09-22T07:22:49.277826Z",
     "iopub.status.busy": "2022-09-22T07:22:49.276866Z",
     "iopub.status.idle": "2022-09-22T07:22:49.279331Z",
     "shell.execute_reply": "2022-09-22T07:22:49.278615Z",
     "shell.execute_reply.started": "2022-09-22T07:12:04.835932Z"
    },
    "papermill": {
     "duration": 0.027508,
     "end_time": "2022-09-22T07:22:49.279502",
     "exception": false,
     "start_time": "2022-09-22T07:22:49.251994",
     "status": "completed"
    },
    "tags": []
   },
   "outputs": [],
   "source": [
    "subjects = [5, 10, 20, 25, 33]"
   ]
  },
  {
   "cell_type": "markdown",
   "id": "637aaa5d",
   "metadata": {
    "papermill": {
     "duration": 0.020783,
     "end_time": "2022-09-22T07:22:49.321342",
     "exception": false,
     "start_time": "2022-09-22T07:22:49.300559",
     "status": "completed"
    },
    "tags": []
   },
   "source": [
    "Extract EEG features -> mean powers in delta, alpha, beta, gamma frequency bands"
   ]
  },
  {
   "cell_type": "code",
   "execution_count": 11,
   "id": "1b1ba8b0",
   "metadata": {
    "execution": {
     "iopub.execute_input": "2022-09-22T07:22:49.371399Z",
     "iopub.status.busy": "2022-09-22T07:22:49.370612Z",
     "iopub.status.idle": "2022-09-22T07:22:52.806083Z",
     "shell.execute_reply": "2022-09-22T07:22:52.806608Z",
     "shell.execute_reply.started": "2022-09-22T07:12:04.847409Z"
    },
    "papermill": {
     "duration": 3.463867,
     "end_time": "2022-09-22T07:22:52.806866",
     "exception": false,
     "start_time": "2022-09-22T07:22:49.342999",
     "status": "completed"
    },
    "tags": []
   },
   "outputs": [],
   "source": [
    "\n",
    "rows_list = []\n",
    "for subject_idx in subjects:\n",
    "    states = get_data(f\"eeg_record{subject_idx}.mat\")\n",
    "    for ch_name, ch_idx in channel_map.items():\n",
    "        for state, eeg in states.items():\n",
    "            powers = get_powers(eeg[:, ch_idx])\n",
    "            powers['state'] = state\n",
    "            powers['channel'] = ch_name\n",
    "            powers['subject'] = f\"subject_{subject_idx}\"\n",
    "            rows_list.append(powers)"
   ]
  },
  {
   "cell_type": "code",
   "execution_count": 12,
   "id": "7d990b24",
   "metadata": {
    "execution": {
     "iopub.execute_input": "2022-09-22T07:22:52.852914Z",
     "iopub.status.busy": "2022-09-22T07:22:52.851911Z",
     "iopub.status.idle": "2022-09-22T07:22:52.863724Z",
     "shell.execute_reply": "2022-09-22T07:22:52.864356Z",
     "shell.execute_reply.started": "2022-09-22T07:12:07.517878Z"
    },
    "papermill": {
     "duration": 0.036185,
     "end_time": "2022-09-22T07:22:52.864566",
     "exception": false,
     "start_time": "2022-09-22T07:22:52.828381",
     "status": "completed"
    },
    "tags": []
   },
   "outputs": [],
   "source": [
    "df = pd.DataFrame.from_dict(rows_list)"
   ]
  },
  {
   "cell_type": "markdown",
   "id": "fbbc77ed",
   "metadata": {
    "papermill": {
     "duration": 0.021212,
     "end_time": "2022-09-22T07:22:52.909210",
     "exception": false,
     "start_time": "2022-09-22T07:22:52.887998",
     "status": "completed"
    },
    "tags": []
   },
   "source": [
    "## Explore and export data"
   ]
  },
  {
   "cell_type": "code",
   "execution_count": 13,
   "id": "c8d65c50",
   "metadata": {
    "execution": {
     "iopub.execute_input": "2022-09-22T07:22:52.961559Z",
     "iopub.status.busy": "2022-09-22T07:22:52.960828Z",
     "iopub.status.idle": "2022-09-22T07:22:52.993118Z",
     "shell.execute_reply": "2022-09-22T07:22:52.993709Z",
     "shell.execute_reply.started": "2022-09-22T07:12:07.530690Z"
    },
    "papermill": {
     "duration": 0.060013,
     "end_time": "2022-09-22T07:22:52.993992",
     "exception": false,
     "start_time": "2022-09-22T07:22:52.933979",
     "status": "completed"
    },
    "tags": []
   },
   "outputs": [
    {
     "data": {
      "text/html": [
       "<div>\n",
       "<style scoped>\n",
       "    .dataframe tbody tr th:only-of-type {\n",
       "        vertical-align: middle;\n",
       "    }\n",
       "\n",
       "    .dataframe tbody tr th {\n",
       "        vertical-align: top;\n",
       "    }\n",
       "\n",
       "    .dataframe thead th {\n",
       "        text-align: right;\n",
       "    }\n",
       "</style>\n",
       "<table border=\"1\" class=\"dataframe\">\n",
       "  <thead>\n",
       "    <tr style=\"text-align: right;\">\n",
       "      <th></th>\n",
       "      <th>alpha</th>\n",
       "      <th>delta</th>\n",
       "      <th>beta</th>\n",
       "      <th>gamma</th>\n",
       "      <th>state</th>\n",
       "      <th>channel</th>\n",
       "      <th>subject</th>\n",
       "    </tr>\n",
       "  </thead>\n",
       "  <tbody>\n",
       "    <tr>\n",
       "      <th>0</th>\n",
       "      <td>0.109188</td>\n",
       "      <td>0.121637</td>\n",
       "      <td>0.179848</td>\n",
       "      <td>0.041091</td>\n",
       "      <td>focused</td>\n",
       "      <td>AF3</td>\n",
       "      <td>subject_5</td>\n",
       "    </tr>\n",
       "    <tr>\n",
       "      <th>1</th>\n",
       "      <td>0.083879</td>\n",
       "      <td>0.078891</td>\n",
       "      <td>0.074366</td>\n",
       "      <td>0.038357</td>\n",
       "      <td>unfocused</td>\n",
       "      <td>AF3</td>\n",
       "      <td>subject_5</td>\n",
       "    </tr>\n",
       "    <tr>\n",
       "      <th>2</th>\n",
       "      <td>0.035458</td>\n",
       "      <td>0.109983</td>\n",
       "      <td>0.039020</td>\n",
       "      <td>0.016242</td>\n",
       "      <td>drowsy</td>\n",
       "      <td>AF3</td>\n",
       "      <td>subject_5</td>\n",
       "    </tr>\n",
       "    <tr>\n",
       "      <th>3</th>\n",
       "      <td>1.927219</td>\n",
       "      <td>36.255531</td>\n",
       "      <td>0.892434</td>\n",
       "      <td>0.213194</td>\n",
       "      <td>focused</td>\n",
       "      <td>F7</td>\n",
       "      <td>subject_5</td>\n",
       "    </tr>\n",
       "    <tr>\n",
       "      <th>4</th>\n",
       "      <td>1.758539</td>\n",
       "      <td>36.506171</td>\n",
       "      <td>0.590528</td>\n",
       "      <td>0.163570</td>\n",
       "      <td>unfocused</td>\n",
       "      <td>F7</td>\n",
       "      <td>subject_5</td>\n",
       "    </tr>\n",
       "  </tbody>\n",
       "</table>\n",
       "</div>"
      ],
      "text/plain": [
       "      alpha      delta      beta     gamma      state channel    subject\n",
       "0  0.109188   0.121637  0.179848  0.041091    focused     AF3  subject_5\n",
       "1  0.083879   0.078891  0.074366  0.038357  unfocused     AF3  subject_5\n",
       "2  0.035458   0.109983  0.039020  0.016242     drowsy     AF3  subject_5\n",
       "3  1.927219  36.255531  0.892434  0.213194    focused      F7  subject_5\n",
       "4  1.758539  36.506171  0.590528  0.163570  unfocused      F7  subject_5"
      ]
     },
     "execution_count": 13,
     "metadata": {},
     "output_type": "execute_result"
    }
   ],
   "source": [
    "df.head()"
   ]
  },
  {
   "cell_type": "code",
   "execution_count": 14,
   "id": "b2eeffd6",
   "metadata": {
    "execution": {
     "iopub.execute_input": "2022-09-22T07:22:53.042043Z",
     "iopub.status.busy": "2022-09-22T07:22:53.041276Z",
     "iopub.status.idle": "2022-09-22T07:22:53.079603Z",
     "shell.execute_reply": "2022-09-22T07:22:53.080450Z",
     "shell.execute_reply.started": "2022-09-22T07:12:07.568673Z"
    },
    "papermill": {
     "duration": 0.06514,
     "end_time": "2022-09-22T07:22:53.080719",
     "exception": false,
     "start_time": "2022-09-22T07:22:53.015579",
     "status": "completed"
    },
    "tags": []
   },
   "outputs": [
    {
     "data": {
      "text/html": [
       "<div>\n",
       "<style scoped>\n",
       "    .dataframe tbody tr th:only-of-type {\n",
       "        vertical-align: middle;\n",
       "    }\n",
       "\n",
       "    .dataframe tbody tr th {\n",
       "        vertical-align: top;\n",
       "    }\n",
       "\n",
       "    .dataframe thead th {\n",
       "        text-align: right;\n",
       "    }\n",
       "</style>\n",
       "<table border=\"1\" class=\"dataframe\">\n",
       "  <thead>\n",
       "    <tr style=\"text-align: right;\">\n",
       "      <th></th>\n",
       "      <th>alpha</th>\n",
       "      <th>delta</th>\n",
       "      <th>beta</th>\n",
       "      <th>gamma</th>\n",
       "    </tr>\n",
       "  </thead>\n",
       "  <tbody>\n",
       "    <tr>\n",
       "      <th>count</th>\n",
       "      <td>210.000000</td>\n",
       "      <td>210.000000</td>\n",
       "      <td>210.000000</td>\n",
       "      <td>210.000000</td>\n",
       "    </tr>\n",
       "    <tr>\n",
       "      <th>mean</th>\n",
       "      <td>3.893512</td>\n",
       "      <td>74.534303</td>\n",
       "      <td>0.639226</td>\n",
       "      <td>0.115020</td>\n",
       "    </tr>\n",
       "    <tr>\n",
       "      <th>std</th>\n",
       "      <td>9.307750</td>\n",
       "      <td>262.369517</td>\n",
       "      <td>0.860707</td>\n",
       "      <td>0.182259</td>\n",
       "    </tr>\n",
       "    <tr>\n",
       "      <th>min</th>\n",
       "      <td>0.000000</td>\n",
       "      <td>0.000000</td>\n",
       "      <td>0.000000</td>\n",
       "      <td>0.000000</td>\n",
       "    </tr>\n",
       "    <tr>\n",
       "      <th>25%</th>\n",
       "      <td>0.072074</td>\n",
       "      <td>0.129839</td>\n",
       "      <td>0.058051</td>\n",
       "      <td>0.026212</td>\n",
       "    </tr>\n",
       "    <tr>\n",
       "      <th>50%</th>\n",
       "      <td>1.274391</td>\n",
       "      <td>5.959509</td>\n",
       "      <td>0.356482</td>\n",
       "      <td>0.076365</td>\n",
       "    </tr>\n",
       "    <tr>\n",
       "      <th>75%</th>\n",
       "      <td>3.644501</td>\n",
       "      <td>48.477687</td>\n",
       "      <td>0.956902</td>\n",
       "      <td>0.150123</td>\n",
       "    </tr>\n",
       "    <tr>\n",
       "      <th>max</th>\n",
       "      <td>71.833644</td>\n",
       "      <td>2933.818633</td>\n",
       "      <td>7.587283</td>\n",
       "      <td>2.111892</td>\n",
       "    </tr>\n",
       "  </tbody>\n",
       "</table>\n",
       "</div>"
      ],
      "text/plain": [
       "            alpha        delta        beta       gamma\n",
       "count  210.000000   210.000000  210.000000  210.000000\n",
       "mean     3.893512    74.534303    0.639226    0.115020\n",
       "std      9.307750   262.369517    0.860707    0.182259\n",
       "min      0.000000     0.000000    0.000000    0.000000\n",
       "25%      0.072074     0.129839    0.058051    0.026212\n",
       "50%      1.274391     5.959509    0.356482    0.076365\n",
       "75%      3.644501    48.477687    0.956902    0.150123\n",
       "max     71.833644  2933.818633    7.587283    2.111892"
      ]
     },
     "execution_count": 14,
     "metadata": {},
     "output_type": "execute_result"
    }
   ],
   "source": [
    "df.describe()"
   ]
  },
  {
   "cell_type": "markdown",
   "id": "71358230",
   "metadata": {
    "papermill": {
     "duration": 0.02415,
     "end_time": "2022-09-22T07:22:53.131867",
     "exception": false,
     "start_time": "2022-09-22T07:22:53.107717",
     "status": "completed"
    },
    "tags": []
   },
   "source": [
    "Save the features to CSV file"
   ]
  },
  {
   "cell_type": "code",
   "execution_count": 15,
   "id": "7b196b46",
   "metadata": {
    "execution": {
     "iopub.execute_input": "2022-09-22T07:22:53.179385Z",
     "iopub.status.busy": "2022-09-22T07:22:53.178658Z",
     "iopub.status.idle": "2022-09-22T07:22:53.192880Z",
     "shell.execute_reply": "2022-09-22T07:22:53.192107Z",
     "shell.execute_reply.started": "2022-09-22T07:12:07.602344Z"
    },
    "papermill": {
     "duration": 0.038465,
     "end_time": "2022-09-22T07:22:53.193047",
     "exception": false,
     "start_time": "2022-09-22T07:22:53.154582",
     "status": "completed"
    },
    "tags": []
   },
   "outputs": [],
   "source": [
    "df.to_csv(\"eeg_powers.csv\")"
   ]
  }
 ],
 "metadata": {
  "kernelspec": {
   "display_name": "Python 3",
   "language": "python",
   "name": "python3"
  },
  "language_info": {
   "codemirror_mode": {
    "name": "ipython",
    "version": 3
   },
   "file_extension": ".py",
   "mimetype": "text/x-python",
   "name": "python",
   "nbconvert_exporter": "python",
   "pygments_lexer": "ipython3",
   "version": "3.7.10"
  },
  "papermill": {
   "default_parameters": {},
   "duration": 16.882514,
   "end_time": "2022-09-22T07:22:54.596071",
   "environment_variables": {},
   "exception": null,
   "input_path": "__notebook__.ipynb",
   "output_path": "__notebook__.ipynb",
   "parameters": {},
   "start_time": "2022-09-22T07:22:37.713557",
   "version": "2.3.3"
  }
 },
 "nbformat": 4,
 "nbformat_minor": 5
}
