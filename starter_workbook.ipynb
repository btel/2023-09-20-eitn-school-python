{
 "cells": [
  {
   "cell_type": "markdown",
   "id": "045578a9-2b2d-4781-b4eb-b89ab33c5230",
   "metadata": {},
   "source": [
    "## Intro\n"
   ]
  },
  {
   "cell_type": "markdown",
   "id": "5e862480-ec4d-426f-b536-f3900c44a09b",
   "metadata": {},
   "source": [
    "It's not a step-by-step introduction to Python programming, check out Software Carpentry lessons and join one of their workshops if you need it: https://swcarpentry.github.io/python-novice-inflammation/, but:\n",
    "\n",
    "\n",
    "* Python is meant to resemble a human language\n",
    "* you can go long way without knowing the details of Python syntax,\n",
    "* just load some data and start playing with it\n",
    "* you can start to use Python to replace your excel sheets or statistical package or create simple graphs to share with colleagues\n",
    "* you can also use python as a programmable calculator"
   ]
  },
  {
   "cell_type": "markdown",
   "id": "3b06817c-f5a3-4940-b0a1-15e454f4712e",
   "metadata": {},
   "source": [
    "## Using Jupyter lab\n",
    "\n",
    "* moving around\n",
    "* editing mode\n",
    "* executing cells\n",
    "* getting help\n",
    "* keyboard shorcuts: \n",
    "  - Enter (to enter edito mode), \n",
    "  - Shit-Enter (Run), \n",
    "  - Esc (enter command mode), \n",
    "  - M (markdown, in command mode), \n",
    "  - X (remove cell, in command mode)\n",
    "  - b (command mode, insert new cell below)"
   ]
  },
  {
   "cell_type": "markdown",
   "id": "7448f261-0322-432f-bfc4-aa70facf5da3",
   "metadata": {},
   "source": [
    "## Basic Python\n",
    "\n",
    "##### expressions:\n",
    "\n",
    "  ```python\n",
    "  a = 4\n",
    "  b = a + 1\n",
    "  print(f\"{a} + 1 = {b}\")\n",
    "  ```\n",
    "\n",
    "##### data structures\n",
    "\n",
    "  ```python\n",
    "  # list\n",
    "  my_list = [1, 5, 6]\n",
    "  print(my_list[0])\n",
    "\n",
    "  # string\n",
    "  my_string = \"hello world\"\n",
    "\n",
    "  # tuple\n",
    "  my_tuple = (4, 5)\n",
    "  x, y = my_tuple\n",
    "\n",
    "  # dictionary\n",
    "  my_dict = {'a': 1, 'b': 3}\n",
    "  print(my_dict['a']) \n",
    "\n",
    "```\n",
    "\n",
    "##### conditionals:\n",
    "\n",
    "  ```python\n",
    "  if a > 0:\n",
    "     print(\"a is positive\")\n",
    "  ```\n",
    "\n",
    "##### loops\n",
    "\n",
    "  ```python\n",
    "  my_list = [1, 2, 3, 4]\n",
    "  for i in range(4):\n",
    "      print(my_list[i])\n",
    "  ```\n",
    "\n",
    "##### functions\n",
    "\n",
    "  ```python\n",
    "  def my_function(a):\n",
    "      return a + 1\n",
    "  print(my_function(5))\n",
    "  ```\n"
   ]
  },
  {
   "cell_type": "markdown",
   "id": "45224a54-40d3-4f10-85cb-6bc76708c609",
   "metadata": {},
   "source": [
    "### Quiz\n",
    "\n",
    "Name the type of the following data structures:\n",
    "\n",
    "  a) `var_a = {'k': 0, 'l': 5}`\n",
    "\n",
    "  b) `var_b = \"Paris\"`\n",
    "  \n",
    "  c) `var_c = ('hello', 'world')`\n",
    "  \n",
    "  d) `var_d = [(1, 1), (2, 2),  (3, 3)]`\n",
    "\n",
    "What are the values of the following expressions:\n",
    "\n",
    "  a) `var_a['k']`\n",
    "  \n",
    "  b) `var_b[1]`\n",
    "  \n",
    "  c) `var_d[2]`\n",
    "  \n",
    "  d) `var_a[1]`"
   ]
  },
  {
   "cell_type": "markdown",
   "id": "0412ffe0-b34c-4c8c-9071-50ed8e7613f7",
   "metadata": {},
   "source": [
    "## Importing and exploring data"
   ]
  },
  {
   "cell_type": "markdown",
   "id": "fbb1e72b-1b9b-4f65-84ae-e48de96458de",
   "metadata": {},
   "source": [
    "* importing libraries\n",
    "* pandas\n",
    "* `read_csv`, `describe`, `head`"
   ]
  },
  {
   "cell_type": "code",
   "execution_count": null,
   "id": "64eef315-ef2a-4701-824c-c99649e8a394",
   "metadata": {},
   "outputs": [],
   "source": [
    "import pandas as pd"
   ]
  },
  {
   "cell_type": "code",
   "execution_count": null,
   "id": "de719267-cc60-49d2-902d-f1ca8b34609f",
   "metadata": {},
   "outputs": [],
   "source": [
    "#url = 'https://raw.githubusercontent.com/btel/2022-09-21-eitn-school/main/eeg_powers.csv'\n",
    "url = 'https://bit.ly/3BTE0A1'\n",
    "df = pd.read_csv(url, index_col=0)"
   ]
  },
  {
   "cell_type": "code",
   "execution_count": null,
   "id": "c4390bb6-9858-493a-b024-52b927a48742",
   "metadata": {},
   "outputs": [],
   "source": [
    "df.to_csv('eeg_data_temp.csv', index=True)"
   ]
  },
  {
   "cell_type": "markdown",
   "id": "ac626303-c270-488c-a857-0c8d260c5509",
   "metadata": {},
   "source": [
    "Definitions of EEG bands:\n",
    "\n",
    "* delta 0.5 -- 4 Hz\n",
    "* alpha 8 -- 13 Hz,  \n",
    "* beta 13 -- 30 Hz, \n",
    "* gamma: > 30 Hz\n",
    "\n",
    "For details, see my notebook with feature extraction: https://www.kaggle.com/btelenczuk/eeg-extract-features\n"
   ]
  },
  {
   "cell_type": "markdown",
   "id": "f6d1a1a6-e5a1-4060-b895-d41acb65212a",
   "metadata": {},
   "source": [
    "## Working with categorical data"
   ]
  },
  {
   "cell_type": "markdown",
   "id": "328fb1d3-b692-46b9-8786-b4fa45d81509",
   "metadata": {},
   "source": [
    "* `unique`, `nunique`, `value_counts`"
   ]
  },
  {
   "cell_type": "markdown",
   "id": "0904a5c4-eb56-4423-b2bc-5b222f8f9ffe",
   "metadata": {},
   "source": [
    "## Plotting: distributions"
   ]
  },
  {
   "cell_type": "markdown",
   "id": "768a2469-9752-4c69-8a1e-5e7db3363b14",
   "metadata": {},
   "source": [
    "\n",
    "* pandas: `hist`"
   ]
  },
  {
   "cell_type": "code",
   "execution_count": null,
   "id": "de2ccdce-8013-42a6-8319-0e3890ca815f",
   "metadata": {},
   "outputs": [],
   "source": []
  },
  {
   "cell_type": "markdown",
   "id": "620689f9-1dca-4bb4-96be-811198a75844",
   "metadata": {},
   "source": [
    "## Transforming data"
   ]
  },
  {
   "cell_type": "markdown",
   "id": "2fcdb29c-3ce5-4c90-b4cf-dea6fa8c99b6",
   "metadata": {},
   "source": [
    "* **Goal**: \"normalize\" powers distribution\n",
    "* boolean indexing/masking/filtering\n",
    "* `.apply`\n",
    "* seaborn: `distplot`\n",
    "*  interpretting results, building hypotheses"
   ]
  },
  {
   "cell_type": "code",
   "execution_count": null,
   "id": "6aaf4c51-45d6-4033-8cf5-7a82e159e8a3",
   "metadata": {},
   "outputs": [],
   "source": [
    "import seaborn as sns"
   ]
  },
  {
   "cell_type": "markdown",
   "id": "0a4a89af-028f-49a5-87d3-d2f0875d57d3",
   "metadata": {},
   "source": [
    "## Scatter plots\n",
    "\n",
    "*  **Goal**: identify dependencies between continous variables (powers)\n",
    "* `.plot.scatter` or `.plot(kind='scatter', ...)`\n",
    "* refine hypotheses"
   ]
  },
  {
   "cell_type": "markdown",
   "id": "577e2458-0c5f-4a96-828d-6f8c5bc1588d",
   "metadata": {},
   "source": [
    "## Compare groups\n",
    "\n",
    "* **Goal**: \n",
    "  - 1) explore dependencies between categorical and continuous variables \n",
    "  - 2) identify causes for underlying variability in CV (stratification)\n",
    "* `.groupby`\n",
    "* transposition, `.T`\n",
    "* `.plot.bar`\n",
    "* `sns.boxplot`\n",
    "* **Excercise**: powers vs electrodes"
   ]
  },
  {
   "cell_type": "markdown",
   "id": "b0cfb6aa-7f7d-4ebd-855d-85e8d2de3904",
   "metadata": {},
   "source": [
    "## Tidy data (advanced)\n",
    "\n",
    "* **Goal**: Combine multiple data dimensions in one graph (2 cat and 1 CV)\n",
    "* tidy data\n",
    "* pandas `df.melt`\n",
    "* `sns.boxplot(data= , x=, y=, hue=)`"
   ]
  },
  {
   "cell_type": "markdown",
   "id": "393cf435-be7b-45c3-b76d-9c974d420b6b",
   "metadata": {},
   "source": [
    "In order to plot different freq bands and states on the same graphy, we need to reformat the data in the [tidy (long) format](https://seaborn.pydata.org/tutorial/data_structure.html#long-form-vs-wide-form-data). For example, we will use it to plot boxplots with mutliple bar hues: https://seaborn.pydata.org/generated/seaborn.boxplot.html "
   ]
  },
  {
   "cell_type": "markdown",
   "id": "ee125629-a6a9-43f8-bd61-18e671c2b637",
   "metadata": {},
   "source": [
    "## Splitting data\n",
    "\n",
    "* **Goal**: split data into distinct groups based on data (stratification)\n",
    "* boolean indexing\n",
    "* `.isin`\n",
    "* `sns.pairplot`"
   ]
  },
  {
   "cell_type": "markdown",
   "id": "56fd4331-b9c0-4720-9211-89c0b54e6b35",
   "metadata": {},
   "source": [
    "## Visualising correlations\n",
    "\n",
    "* **Goal**: Analyse correlations in stratified data\n",
    "* `sns.pairplot`\n",
    "* `df.corr`\n",
    "* `sns.heatmap`"
   ]
  },
  {
   "cell_type": "code",
   "execution_count": null,
   "id": "1bd7bc8d-f8fe-471d-b15a-8662e0061d37",
   "metadata": {},
   "outputs": [],
   "source": []
  },
  {
   "cell_type": "markdown",
   "id": "d8dff8df-29c9-40ad-994d-c8d166e37ce5",
   "metadata": {},
   "source": [
    "## Statistics (advanced)\n",
    "\n",
    "* **Goal**: Look for differences in powers in different states\n",
    "* statsmodels\n",
    "* `statsmodels.formula.api.ols`\n",
    "* `statsmodels.api.stats.anova_lm`"
   ]
  },
  {
   "cell_type": "code",
   "execution_count": null,
   "id": "31382ab2-b268-4ffb-98b6-88eeb9fc972b",
   "metadata": {},
   "outputs": [],
   "source": [
    "import statsmodels.api as sm\n",
    "from statsmodels.formula.api import ols"
   ]
  },
  {
   "cell_type": "markdown",
   "id": "593703cd-c15c-4d9b-b370-e3d6fc96de83",
   "metadata": {},
   "source": [
    "## Clustering (advanced)"
   ]
  },
  {
   "cell_type": "markdown",
   "id": "122ce38a-3fa5-4fdc-8666-ddeee0170451",
   "metadata": {},
   "source": [
    "* **Goal**: unsupervised learning\n",
    "* sklearn\n",
    "* `sklearn.cluster.KMeans`\n",
    "* `.fit`, `labels_`\n",
    "* plotting multiple graphs in the same axes"
   ]
  },
  {
   "cell_type": "code",
   "execution_count": null,
   "id": "c726d9a0-7219-4c98-83d6-0b37ca804fb2",
   "metadata": {},
   "outputs": [],
   "source": [
    "from sklearn import cluster"
   ]
  },
  {
   "cell_type": "markdown",
   "id": "ce8a246b-2b41-4098-9d64-67c343322bac",
   "metadata": {},
   "source": [
    "## Groupby revisited\n",
    "\n",
    "* **Goal**: plot number of channel recordings belonging to each cluster (subjects and states confounded)\n",
    "* `.value_counts`"
   ]
  },
  {
   "cell_type": "code",
   "execution_count": null,
   "id": "1b07e62f-0658-4bab-9d33-0f5e1945154a",
   "metadata": {},
   "outputs": [],
   "source": []
  }
 ],
 "metadata": {
  "kernelspec": {
   "display_name": "Python 3 (ipykernel)",
   "language": "python",
   "name": "python3"
  },
  "language_info": {
   "codemirror_mode": {
    "name": "ipython",
    "version": 3
   },
   "file_extension": ".py",
   "mimetype": "text/x-python",
   "name": "python",
   "nbconvert_exporter": "python",
   "pygments_lexer": "ipython3",
   "version": "3.11.0"
  }
 },
 "nbformat": 4,
 "nbformat_minor": 5
}
