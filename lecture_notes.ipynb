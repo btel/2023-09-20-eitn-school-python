{
 "cells": [
  {
   "cell_type": "code",
   "execution_count": 1,
   "id": "09d5e80f",
   "metadata": {
    "_cell_guid": "b1076dfc-b9ad-4769-8c92-a6c4dae69d19",
    "_uuid": "8f2839f25d086af736a60e9eeb907d3b93b6e0e5",
    "papermill": {
     "duration": 0.037981,
     "end_time": "2022-09-21T09:13:03.529704",
     "exception": false,
     "start_time": "2022-09-21T09:13:03.491723",
     "status": "completed"
    },
    "tags": []
   },
   "outputs": [],
   "source": [
    "import numpy as np # linear algebra\n",
    "import pandas as pd # data processing, CSV file I/O (e.g. pd.read_csv)\n",
    "import os"
   ]
  },
  {
   "cell_type": "markdown",
   "id": "7d1e0afe",
   "metadata": {
    "papermill": {
     "duration": 0.01061,
     "end_time": "2022-09-21T09:13:03.551770",
     "exception": false,
     "start_time": "2022-09-21T09:13:03.541160",
     "status": "completed"
    },
    "tags": []
   },
   "source": [
    "## Intro\n",
    "\n",
    "You can go long way without knowing the details of Python sytanx. Just load some data and start playing with it. You can, for example, use Python to replace your excel sheets or statistical packages."
   ]
  },
  {
   "cell_type": "markdown",
   "id": "2faa483f",
   "metadata": {
    "execution": {
     "iopub.execute_input": "2022-09-21T07:35:07.464959Z",
     "iopub.status.busy": "2022-09-21T07:35:07.464496Z",
     "iopub.status.idle": "2022-09-21T07:35:07.470160Z",
     "shell.execute_reply": "2022-09-21T07:35:07.469032Z",
     "shell.execute_reply.started": "2022-09-21T07:35:07.464920Z"
    },
    "papermill": {
     "duration": 0.0106,
     "end_time": "2022-09-21T09:13:03.575497",
     "exception": false,
     "start_time": "2022-09-21T09:13:03.564897",
     "status": "completed"
    },
    "tags": []
   },
   "source": [
    "## Using Jupyter lab\n",
    "\n",
    "* moving around\n",
    "* editing mode\n",
    "* executing cells\n",
    "* getting help"
   ]
  },
  {
   "cell_type": "markdown",
   "id": "3b90658d",
   "metadata": {
    "execution": {
     "iopub.execute_input": "2022-09-21T08:05:51.581547Z",
     "iopub.status.busy": "2022-09-21T08:05:51.581066Z",
     "iopub.status.idle": "2022-09-21T08:05:51.587604Z",
     "shell.execute_reply": "2022-09-21T08:05:51.586054Z",
     "shell.execute_reply.started": "2022-09-21T08:05:51.581510Z"
    },
    "papermill": {
     "duration": 0.010718,
     "end_time": "2022-09-21T09:13:03.597572",
     "exception": false,
     "start_time": "2022-09-21T09:13:03.586854",
     "status": "completed"
    },
    "tags": []
   },
   "source": [
    "## Importing and exploring data"
   ]
  },
  {
   "cell_type": "code",
   "execution_count": 2,
   "id": "36342df6",
   "metadata": {
    "papermill": {
     "duration": 0.05216,
     "end_time": "2022-09-21T09:13:03.660868",
     "exception": false,
     "start_time": "2022-09-21T09:13:03.608708",
     "status": "completed"
    },
    "tags": []
   },
   "outputs": [],
   "source": [
    "df = pd.read_csv('eeg_powers.csv', index_col=0)"
   ]
  },
  {
   "cell_type": "code",
   "execution_count": 3,
   "id": "b1eac070",
   "metadata": {
    "papermill": {
     "duration": 0.048764,
     "end_time": "2022-09-21T09:13:03.721172",
     "exception": false,
     "start_time": "2022-09-21T09:13:03.672408",
     "status": "completed"
    },
    "tags": []
   },
   "outputs": [
    {
     "data": {
      "text/html": [
       "<div>\n",
       "<style scoped>\n",
       "    .dataframe tbody tr th:only-of-type {\n",
       "        vertical-align: middle;\n",
       "    }\n",
       "\n",
       "    .dataframe tbody tr th {\n",
       "        vertical-align: top;\n",
       "    }\n",
       "\n",
       "    .dataframe thead th {\n",
       "        text-align: right;\n",
       "    }\n",
       "</style>\n",
       "<table border=\"1\" class=\"dataframe\">\n",
       "  <thead>\n",
       "    <tr style=\"text-align: right;\">\n",
       "      <th></th>\n",
       "      <th>alpha</th>\n",
       "      <th>delta</th>\n",
       "      <th>beta</th>\n",
       "      <th>gamma</th>\n",
       "      <th>state</th>\n",
       "      <th>channel</th>\n",
       "      <th>subject</th>\n",
       "    </tr>\n",
       "  </thead>\n",
       "  <tbody>\n",
       "    <tr>\n",
       "      <th>0</th>\n",
       "      <td>0.109188</td>\n",
       "      <td>0.121637</td>\n",
       "      <td>0.179848</td>\n",
       "      <td>0.041091</td>\n",
       "      <td>focused</td>\n",
       "      <td>AF3</td>\n",
       "      <td>subject_5</td>\n",
       "    </tr>\n",
       "    <tr>\n",
       "      <th>1</th>\n",
       "      <td>0.083879</td>\n",
       "      <td>0.078891</td>\n",
       "      <td>0.074366</td>\n",
       "      <td>0.038357</td>\n",
       "      <td>unfocused</td>\n",
       "      <td>AF3</td>\n",
       "      <td>subject_5</td>\n",
       "    </tr>\n",
       "    <tr>\n",
       "      <th>2</th>\n",
       "      <td>0.035458</td>\n",
       "      <td>0.109983</td>\n",
       "      <td>0.039020</td>\n",
       "      <td>0.016242</td>\n",
       "      <td>drowsy</td>\n",
       "      <td>AF3</td>\n",
       "      <td>subject_5</td>\n",
       "    </tr>\n",
       "    <tr>\n",
       "      <th>3</th>\n",
       "      <td>1.927219</td>\n",
       "      <td>36.255531</td>\n",
       "      <td>0.892434</td>\n",
       "      <td>0.213194</td>\n",
       "      <td>focused</td>\n",
       "      <td>F7</td>\n",
       "      <td>subject_5</td>\n",
       "    </tr>\n",
       "    <tr>\n",
       "      <th>4</th>\n",
       "      <td>1.758539</td>\n",
       "      <td>36.506171</td>\n",
       "      <td>0.590528</td>\n",
       "      <td>0.163570</td>\n",
       "      <td>unfocused</td>\n",
       "      <td>F7</td>\n",
       "      <td>subject_5</td>\n",
       "    </tr>\n",
       "  </tbody>\n",
       "</table>\n",
       "</div>"
      ],
      "text/plain": [
       "      alpha      delta      beta     gamma      state channel    subject\n",
       "0  0.109188   0.121637  0.179848  0.041091    focused     AF3  subject_5\n",
       "1  0.083879   0.078891  0.074366  0.038357  unfocused     AF3  subject_5\n",
       "2  0.035458   0.109983  0.039020  0.016242     drowsy     AF3  subject_5\n",
       "3  1.927219  36.255531  0.892434  0.213194    focused      F7  subject_5\n",
       "4  1.758539  36.506171  0.590528  0.163570  unfocused      F7  subject_5"
      ]
     },
     "execution_count": 3,
     "metadata": {},
     "output_type": "execute_result"
    }
   ],
   "source": [
    "df.head()"
   ]
  },
  {
   "cell_type": "code",
   "execution_count": 4,
   "id": "4a0333ae",
   "metadata": {
    "papermill": {
     "duration": 0.047244,
     "end_time": "2022-09-21T09:13:03.780052",
     "exception": false,
     "start_time": "2022-09-21T09:13:03.732808",
     "status": "completed"
    },
    "tags": []
   },
   "outputs": [
    {
     "data": {
      "text/html": [
       "<div>\n",
       "<style scoped>\n",
       "    .dataframe tbody tr th:only-of-type {\n",
       "        vertical-align: middle;\n",
       "    }\n",
       "\n",
       "    .dataframe tbody tr th {\n",
       "        vertical-align: top;\n",
       "    }\n",
       "\n",
       "    .dataframe thead th {\n",
       "        text-align: right;\n",
       "    }\n",
       "</style>\n",
       "<table border=\"1\" class=\"dataframe\">\n",
       "  <thead>\n",
       "    <tr style=\"text-align: right;\">\n",
       "      <th></th>\n",
       "      <th>alpha</th>\n",
       "      <th>delta</th>\n",
       "      <th>beta</th>\n",
       "      <th>gamma</th>\n",
       "    </tr>\n",
       "  </thead>\n",
       "  <tbody>\n",
       "    <tr>\n",
       "      <th>count</th>\n",
       "      <td>210.000000</td>\n",
       "      <td>210.000000</td>\n",
       "      <td>210.000000</td>\n",
       "      <td>210.000000</td>\n",
       "    </tr>\n",
       "    <tr>\n",
       "      <th>mean</th>\n",
       "      <td>3.893512</td>\n",
       "      <td>74.534303</td>\n",
       "      <td>0.639226</td>\n",
       "      <td>0.115020</td>\n",
       "    </tr>\n",
       "    <tr>\n",
       "      <th>std</th>\n",
       "      <td>9.307750</td>\n",
       "      <td>262.369517</td>\n",
       "      <td>0.860707</td>\n",
       "      <td>0.182259</td>\n",
       "    </tr>\n",
       "    <tr>\n",
       "      <th>min</th>\n",
       "      <td>0.000000</td>\n",
       "      <td>0.000000</td>\n",
       "      <td>0.000000</td>\n",
       "      <td>0.000000</td>\n",
       "    </tr>\n",
       "    <tr>\n",
       "      <th>25%</th>\n",
       "      <td>0.072074</td>\n",
       "      <td>0.129839</td>\n",
       "      <td>0.058051</td>\n",
       "      <td>0.026212</td>\n",
       "    </tr>\n",
       "    <tr>\n",
       "      <th>50%</th>\n",
       "      <td>1.274391</td>\n",
       "      <td>5.959509</td>\n",
       "      <td>0.356482</td>\n",
       "      <td>0.076365</td>\n",
       "    </tr>\n",
       "    <tr>\n",
       "      <th>75%</th>\n",
       "      <td>3.644501</td>\n",
       "      <td>48.477687</td>\n",
       "      <td>0.956902</td>\n",
       "      <td>0.150123</td>\n",
       "    </tr>\n",
       "    <tr>\n",
       "      <th>max</th>\n",
       "      <td>71.833644</td>\n",
       "      <td>2933.818633</td>\n",
       "      <td>7.587283</td>\n",
       "      <td>2.111892</td>\n",
       "    </tr>\n",
       "  </tbody>\n",
       "</table>\n",
       "</div>"
      ],
      "text/plain": [
       "            alpha        delta        beta       gamma\n",
       "count  210.000000   210.000000  210.000000  210.000000\n",
       "mean     3.893512    74.534303    0.639226    0.115020\n",
       "std      9.307750   262.369517    0.860707    0.182259\n",
       "min      0.000000     0.000000    0.000000    0.000000\n",
       "25%      0.072074     0.129839    0.058051    0.026212\n",
       "50%      1.274391     5.959509    0.356482    0.076365\n",
       "75%      3.644501    48.477687    0.956902    0.150123\n",
       "max     71.833644  2933.818633    7.587283    2.111892"
      ]
     },
     "execution_count": 4,
     "metadata": {},
     "output_type": "execute_result"
    }
   ],
   "source": [
    "df.describe()"
   ]
  },
  {
   "cell_type": "markdown",
   "id": "e91a8e02",
   "metadata": {
    "papermill": {
     "duration": 0.014044,
     "end_time": "2022-09-21T09:13:03.805722",
     "exception": false,
     "start_time": "2022-09-21T09:13:03.791678",
     "status": "completed"
    },
    "tags": []
   },
   "source": [
    "## Working with categorical data"
   ]
  },
  {
   "cell_type": "code",
   "execution_count": 5,
   "id": "803a7412",
   "metadata": {
    "papermill": {
     "duration": 0.024827,
     "end_time": "2022-09-21T09:13:03.842097",
     "exception": false,
     "start_time": "2022-09-21T09:13:03.817270",
     "status": "completed"
    },
    "tags": []
   },
   "outputs": [
    {
     "data": {
      "text/plain": [
       "array(['focused', 'unfocused', 'drowsy'], dtype=object)"
      ]
     },
     "execution_count": 5,
     "metadata": {},
     "output_type": "execute_result"
    }
   ],
   "source": [
    "df['state'].unique()"
   ]
  },
  {
   "cell_type": "code",
   "execution_count": 6,
   "id": "38521a34",
   "metadata": {
    "papermill": {
     "duration": 0.026285,
     "end_time": "2022-09-21T09:13:03.880291",
     "exception": false,
     "start_time": "2022-09-21T09:13:03.854006",
     "status": "completed"
    },
    "tags": []
   },
   "outputs": [
    {
     "data": {
      "text/plain": [
       "unfocused    70\n",
       "focused      70\n",
       "drowsy       70\n",
       "Name: state, dtype: int64"
      ]
     },
     "execution_count": 6,
     "metadata": {},
     "output_type": "execute_result"
    }
   ],
   "source": [
    "df['state'].value_counts()"
   ]
  },
  {
   "cell_type": "markdown",
   "id": "af56a37b",
   "metadata": {
    "papermill": {
     "duration": 0.012144,
     "end_time": "2022-09-21T09:13:03.904966",
     "exception": false,
     "start_time": "2022-09-21T09:13:03.892822",
     "status": "completed"
    },
    "tags": []
   },
   "source": [
    "## Plotting distributions"
   ]
  },
  {
   "cell_type": "code",
   "execution_count": 7,
   "id": "82c0aa75",
   "metadata": {
    "papermill": {
     "duration": 1.323144,
     "end_time": "2022-09-21T09:13:05.240228",
     "exception": false,
     "start_time": "2022-09-21T09:13:03.917084",
     "status": "completed"
    },
    "tags": []
   },
   "outputs": [],
   "source": [
    "import seaborn as sns"
   ]
  },
  {
   "cell_type": "code",
   "execution_count": 8,
   "id": "153c4aae",
   "metadata": {
    "papermill": {
     "duration": 0.024324,
     "end_time": "2022-09-21T09:13:05.276498",
     "exception": false,
     "start_time": "2022-09-21T09:13:05.252174",
     "status": "completed"
    },
    "tags": []
   },
   "outputs": [
    {
     "data": {
      "text/plain": [
       "0.0"
      ]
     },
     "execution_count": 8,
     "metadata": {},
     "output_type": "execute_result"
    }
   ],
   "source": [
    "df['alpha'].min()"
   ]
  },
  {
   "cell_type": "code",
   "execution_count": 9,
   "id": "241fedd8",
   "metadata": {
    "papermill": {
     "duration": 0.233812,
     "end_time": "2022-09-21T09:13:05.522221",
     "exception": false,
     "start_time": "2022-09-21T09:13:05.288409",
     "status": "completed"
    },
    "tags": []
   },
   "outputs": [
    {
     "data": {
      "text/plain": [
       "<AxesSubplot:>"
      ]
     },
     "execution_count": 9,
     "metadata": {},
     "output_type": "execute_result"
    },
    {
     "data": {
      "image/png": "[encoded data removed]",
      "text/plain": [
       "<Figure size 432x288 with 1 Axes>"
      ]
     },
     "metadata": {
      "needs_background": "light"
     },
     "output_type": "display_data"
    }
   ],
   "source": [
    "df['state'].hist()"
   ]
  },
  {
   "cell_type": "code",
   "execution_count": 10,
   "id": "34cc16ae",
   "metadata": {
    "papermill": {
     "duration": 0.203421,
     "end_time": "2022-09-21T09:13:05.737975",
     "exception": false,
     "start_time": "2022-09-21T09:13:05.534554",
     "status": "completed"
    },
    "tags": []
   },
   "outputs": [
    {
     "data": {
      "text/plain": [
       "<AxesSubplot:>"
      ]
     },
     "execution_count": 10,
     "metadata": {},
     "output_type": "execute_result"
    },
    {
     "data": {
      "image/png": "[encoded data removed]",
      "text/plain": [
       "<Figure size 432x288 with 1 Axes>"
      ]
     },
     "metadata": {
      "needs_background": "light"
     },
     "output_type": "display_data"
    }
   ],
   "source": [
    "df['alpha'].hist()"
   ]
  },
  {
   "cell_type": "code",
   "execution_count": 11,
   "id": "46f6a6b1",
   "metadata": {
    "papermill": {
     "duration": 0.309338,
     "end_time": "2022-09-21T09:13:06.060038",
     "exception": false,
     "start_time": "2022-09-21T09:13:05.750700",
     "status": "completed"
    },
    "tags": []
   },
   "outputs": [
    {
     "name": "stderr",
     "output_type": "stream",
     "text": [
      "/home/bartosz/.pyenv/versions/anaconda3-2021.05/lib/python3.8/site-packages/seaborn/distributions.py:2557: FutureWarning: `distplot` is a deprecated function and will be removed in a future version. Please adapt your code to use either `displot` (a figure-level function with similar flexibility) or `histplot` (an axes-level function for histograms).\n",
      "  warnings.warn(msg, FutureWarning)\n"
     ]
    },
    {
     "data": {
      "text/plain": [
       "<AxesSubplot:xlabel='alpha', ylabel='Density'>"
      ]
     },
     "execution_count": 11,
     "metadata": {},
     "output_type": "execute_result"
    },
    {
     "data": {
      "image/png": "[encoded data removed]",
      "text/plain": [
       "<Figure size 432x288 with 1 Axes>"
      ]
     },
     "metadata": {
      "needs_background": "light"
     },
     "output_type": "display_data"
    }
   ],
   "source": [
    "sns.distplot(df['alpha'])"
   ]
  },
  {
   "cell_type": "code",
   "execution_count": 12,
   "id": "769c5f62",
   "metadata": {
    "papermill": {
     "duration": 0.027487,
     "end_time": "2022-09-21T09:13:06.100126",
     "exception": false,
     "start_time": "2022-09-21T09:13:06.072639",
     "status": "completed"
    },
    "tags": []
   },
   "outputs": [],
   "source": [
    "# remove zero column\n",
    "df = df[df['alpha'] != 0]\n",
    "df_log = df.copy()\n",
    "\n",
    "df_log['alpha'] = df['alpha'].apply('log')\n",
    "df_log['beta'] = df['beta'].apply('log')\n",
    "df_log['gamma'] = df['gamma'].apply('log')\n",
    "df_log['delta'] = df['delta'].apply('log')"
   ]
  },
  {
   "cell_type": "code",
   "execution_count": 13,
   "id": "a88160d4",
   "metadata": {
    "papermill": {
     "duration": 0.221276,
     "end_time": "2022-09-21T09:13:06.334716",
     "exception": false,
     "start_time": "2022-09-21T09:13:06.113440",
     "status": "completed"
    },
    "tags": []
   },
   "outputs": [
    {
     "name": "stderr",
     "output_type": "stream",
     "text": [
      "/home/bartosz/.pyenv/versions/anaconda3-2021.05/lib/python3.8/site-packages/seaborn/distributions.py:2557: FutureWarning: `distplot` is a deprecated function and will be removed in a future version. Please adapt your code to use either `displot` (a figure-level function with similar flexibility) or `histplot` (an axes-level function for histograms).\n",
      "  warnings.warn(msg, FutureWarning)\n"
     ]
    },
    {
     "data": {
      "text/plain": [
       "<AxesSubplot:xlabel='alpha', ylabel='Density'>"
      ]
     },
     "execution_count": 13,
     "metadata": {},
     "output_type": "execute_result"
    },
    {
     "data": {
      "image/png": "[encoded data removed]",
      "text/plain": [
       "<Figure size 432x288 with 1 Axes>"
      ]
     },
     "metadata": {
      "needs_background": "light"
     },
     "output_type": "display_data"
    }
   ],
   "source": [
    "sns.distplot(df_log['alpha'])"
   ]
  },
  {
   "cell_type": "markdown",
   "id": "04bd9b2e",
   "metadata": {
    "papermill": {
     "duration": 0.013388,
     "end_time": "2022-09-21T09:13:06.361673",
     "exception": false,
     "start_time": "2022-09-21T09:13:06.348285",
     "status": "completed"
    },
    "tags": []
   },
   "source": [
    "## Scatter plots"
   ]
  },
  {
   "cell_type": "code",
   "execution_count": 14,
   "id": "577dfb1e",
   "metadata": {
    "papermill": {
     "duration": 0.222179,
     "end_time": "2022-09-21T09:13:06.597584",
     "exception": false,
     "start_time": "2022-09-21T09:13:06.375405",
     "status": "completed"
    },
    "tags": []
   },
   "outputs": [
    {
     "data": {
      "text/plain": [
       "<AxesSubplot:xlabel='alpha', ylabel='delta'>"
      ]
     },
     "execution_count": 14,
     "metadata": {},
     "output_type": "execute_result"
    },
    {
     "data": {
      "image/png": "[encoded data removed]",
      "text/plain": [
       "<Figure size 432x288 with 1 Axes>"
      ]
     },
     "metadata": {
      "needs_background": "light"
     },
     "output_type": "display_data"
    }
   ],
   "source": [
    "df_log.plot(kind='scatter', x='alpha', y='delta')"
   ]
  },
  {
   "cell_type": "markdown",
   "id": "78c3b2d1",
   "metadata": {
    "papermill": {
     "duration": 0.013658,
     "end_time": "2022-09-21T09:13:06.625457",
     "exception": false,
     "start_time": "2022-09-21T09:13:06.611799",
     "status": "completed"
    },
    "tags": []
   },
   "source": [
    "Why do we see 2 cluster?\n",
    "- two different brain states (low vs high power)?\n",
    "- differences between subjects\n",
    "- non-scaled data\n",
    "- artifacts (eye-blinks)\n",
    "- differences between electrodes"
   ]
  },
  {
   "cell_type": "markdown",
   "id": "cba7778e",
   "metadata": {
    "execution": {
     "iopub.execute_input": "2022-09-21T08:45:28.322461Z",
     "iopub.status.busy": "2022-09-21T08:45:28.322010Z",
     "iopub.status.idle": "2022-09-21T08:45:28.328225Z",
     "shell.execute_reply": "2022-09-21T08:45:28.326637Z",
     "shell.execute_reply.started": "2022-09-21T08:45:28.322425Z"
    },
    "papermill": {
     "duration": 0.013599,
     "end_time": "2022-09-21T09:13:06.653103",
     "exception": false,
     "start_time": "2022-09-21T09:13:06.639504",
     "status": "completed"
    },
    "tags": []
   },
   "source": [
    "## Compare groups"
   ]
  },
  {
   "cell_type": "code",
   "execution_count": 15,
   "id": "4e6ebbee",
   "metadata": {
    "papermill": {
     "duration": 0.026745,
     "end_time": "2022-09-21T09:13:06.693892",
     "exception": false,
     "start_time": "2022-09-21T09:13:06.667147",
     "status": "completed"
    },
    "tags": []
   },
   "outputs": [],
   "source": [
    "state_means = df_log.groupby('state').mean()"
   ]
  },
  {
   "cell_type": "code",
   "execution_count": 16,
   "id": "caed993f",
   "metadata": {
    "papermill": {
     "duration": 0.222984,
     "end_time": "2022-09-21T09:13:06.931567",
     "exception": false,
     "start_time": "2022-09-21T09:13:06.708583",
     "status": "completed"
    },
    "tags": []
   },
   "outputs": [
    {
     "data": {
      "text/plain": [
       "<AxesSubplot:>"
      ]
     },
     "execution_count": 16,
     "metadata": {},
     "output_type": "execute_result"
    },
    {
     "data": {
      "image/png": "[encoded data removed]",
      "text/plain": [
       "<Figure size 432x288 with 1 Axes>"
      ]
     },
     "metadata": {
      "needs_background": "light"
     },
     "output_type": "display_data"
    }
   ],
   "source": [
    "state_means.T.plot.bar()"
   ]
  },
  {
   "cell_type": "markdown",
   "id": "d5dfbe56",
   "metadata": {
    "papermill": {
     "duration": 0.013717,
     "end_time": "2022-09-21T09:13:06.962751",
     "exception": false,
     "start_time": "2022-09-21T09:13:06.949034",
     "status": "completed"
    },
    "tags": []
   },
   "source": [
    "\n"
   ]
  },
  {
   "cell_type": "code",
   "execution_count": 17,
   "id": "20dd9120",
   "metadata": {
    "papermill": {
     "duration": 0.202991,
     "end_time": "2022-09-21T09:13:07.179701",
     "exception": false,
     "start_time": "2022-09-21T09:13:06.976710",
     "status": "completed"
    },
    "tags": []
   },
   "outputs": [
    {
     "data": {
      "text/plain": [
       "<AxesSubplot:xlabel='state', ylabel='delta'>"
      ]
     },
     "execution_count": 17,
     "metadata": {},
     "output_type": "execute_result"
    },
    {
     "data": {
      "image/png": "[encoded data removed]",
      "text/plain": [
       "<Figure size 432x288 with 1 Axes>"
      ]
     },
     "metadata": {
      "needs_background": "light"
     },
     "output_type": "display_data"
    }
   ],
   "source": [
    "sns.boxplot(x='state', y='delta', data=df_log)"
   ]
  },
  {
   "cell_type": "code",
   "execution_count": 18,
   "id": "c411ce9e",
   "metadata": {
    "papermill": {
     "duration": 0.036724,
     "end_time": "2022-09-21T09:13:07.230820",
     "exception": false,
     "start_time": "2022-09-21T09:13:07.194096",
     "status": "completed"
    },
    "tags": []
   },
   "outputs": [
    {
     "data": {
      "text/html": [
       "<div>\n",
       "<style scoped>\n",
       "    .dataframe tbody tr th:only-of-type {\n",
       "        vertical-align: middle;\n",
       "    }\n",
       "\n",
       "    .dataframe tbody tr th {\n",
       "        vertical-align: top;\n",
       "    }\n",
       "\n",
       "    .dataframe thead th {\n",
       "        text-align: right;\n",
       "    }\n",
       "</style>\n",
       "<table border=\"1\" class=\"dataframe\">\n",
       "  <thead>\n",
       "    <tr style=\"text-align: right;\">\n",
       "      <th></th>\n",
       "      <th>alpha</th>\n",
       "      <th>delta</th>\n",
       "      <th>beta</th>\n",
       "      <th>gamma</th>\n",
       "      <th>state</th>\n",
       "      <th>channel</th>\n",
       "      <th>subject</th>\n",
       "    </tr>\n",
       "  </thead>\n",
       "  <tbody>\n",
       "    <tr>\n",
       "      <th>0</th>\n",
       "      <td>-2.214683</td>\n",
       "      <td>-2.106715</td>\n",
       "      <td>-1.715645</td>\n",
       "      <td>-3.191958</td>\n",
       "      <td>focused</td>\n",
       "      <td>AF3</td>\n",
       "      <td>subject_5</td>\n",
       "    </tr>\n",
       "    <tr>\n",
       "      <th>1</th>\n",
       "      <td>-2.478376</td>\n",
       "      <td>-2.539694</td>\n",
       "      <td>-2.598762</td>\n",
       "      <td>-3.260806</td>\n",
       "      <td>unfocused</td>\n",
       "      <td>AF3</td>\n",
       "      <td>subject_5</td>\n",
       "    </tr>\n",
       "    <tr>\n",
       "      <th>2</th>\n",
       "      <td>-3.339396</td>\n",
       "      <td>-2.207430</td>\n",
       "      <td>-3.243676</td>\n",
       "      <td>-4.120173</td>\n",
       "      <td>drowsy</td>\n",
       "      <td>AF3</td>\n",
       "      <td>subject_5</td>\n",
       "    </tr>\n",
       "    <tr>\n",
       "      <th>3</th>\n",
       "      <td>0.656078</td>\n",
       "      <td>3.590592</td>\n",
       "      <td>-0.113803</td>\n",
       "      <td>-1.545552</td>\n",
       "      <td>focused</td>\n",
       "      <td>F7</td>\n",
       "      <td>subject_5</td>\n",
       "    </tr>\n",
       "    <tr>\n",
       "      <th>4</th>\n",
       "      <td>0.564483</td>\n",
       "      <td>3.597481</td>\n",
       "      <td>-0.526738</td>\n",
       "      <td>-1.810513</td>\n",
       "      <td>unfocused</td>\n",
       "      <td>F7</td>\n",
       "      <td>subject_5</td>\n",
       "    </tr>\n",
       "    <tr>\n",
       "      <th>...</th>\n",
       "      <td>...</td>\n",
       "      <td>...</td>\n",
       "      <td>...</td>\n",
       "      <td>...</td>\n",
       "      <td>...</td>\n",
       "      <td>...</td>\n",
       "      <td>...</td>\n",
       "    </tr>\n",
       "    <tr>\n",
       "      <th>205</th>\n",
       "      <td>-3.469193</td>\n",
       "      <td>-2.195682</td>\n",
       "      <td>-2.830449</td>\n",
       "      <td>-3.509048</td>\n",
       "      <td>unfocused</td>\n",
       "      <td>F8</td>\n",
       "      <td>subject_33</td>\n",
       "    </tr>\n",
       "    <tr>\n",
       "      <th>206</th>\n",
       "      <td>-2.572097</td>\n",
       "      <td>-1.194097</td>\n",
       "      <td>-3.146518</td>\n",
       "      <td>-3.616630</td>\n",
       "      <td>drowsy</td>\n",
       "      <td>F8</td>\n",
       "      <td>subject_33</td>\n",
       "    </tr>\n",
       "    <tr>\n",
       "      <th>207</th>\n",
       "      <td>0.495099</td>\n",
       "      <td>4.469770</td>\n",
       "      <td>-0.107089</td>\n",
       "      <td>-1.551568</td>\n",
       "      <td>focused</td>\n",
       "      <td>AF4</td>\n",
       "      <td>subject_33</td>\n",
       "    </tr>\n",
       "    <tr>\n",
       "      <th>208</th>\n",
       "      <td>1.291949</td>\n",
       "      <td>3.637969</td>\n",
       "      <td>-1.028978</td>\n",
       "      <td>-2.410300</td>\n",
       "      <td>unfocused</td>\n",
       "      <td>AF4</td>\n",
       "      <td>subject_33</td>\n",
       "    </tr>\n",
       "    <tr>\n",
       "      <th>209</th>\n",
       "      <td>3.340630</td>\n",
       "      <td>4.130894</td>\n",
       "      <td>0.205064</td>\n",
       "      <td>-1.981739</td>\n",
       "      <td>drowsy</td>\n",
       "      <td>AF4</td>\n",
       "      <td>subject_33</td>\n",
       "    </tr>\n",
       "  </tbody>\n",
       "</table>\n",
       "<p>209 rows × 7 columns</p>\n",
       "</div>"
      ],
      "text/plain": [
       "        alpha     delta      beta     gamma      state channel     subject\n",
       "0   -2.214683 -2.106715 -1.715645 -3.191958    focused     AF3   subject_5\n",
       "1   -2.478376 -2.539694 -2.598762 -3.260806  unfocused     AF3   subject_5\n",
       "2   -3.339396 -2.207430 -3.243676 -4.120173     drowsy     AF3   subject_5\n",
       "3    0.656078  3.590592 -0.113803 -1.545552    focused      F7   subject_5\n",
       "4    0.564483  3.597481 -0.526738 -1.810513  unfocused      F7   subject_5\n",
       "..        ...       ...       ...       ...        ...     ...         ...\n",
       "205 -3.469193 -2.195682 -2.830449 -3.509048  unfocused      F8  subject_33\n",
       "206 -2.572097 -1.194097 -3.146518 -3.616630     drowsy      F8  subject_33\n",
       "207  0.495099  4.469770 -0.107089 -1.551568    focused     AF4  subject_33\n",
       "208  1.291949  3.637969 -1.028978 -2.410300  unfocused     AF4  subject_33\n",
       "209  3.340630  4.130894  0.205064 -1.981739     drowsy     AF4  subject_33\n",
       "\n",
       "[209 rows x 7 columns]"
      ]
     },
     "execution_count": 18,
     "metadata": {},
     "output_type": "execute_result"
    }
   ],
   "source": [
    "df_log"
   ]
  },
  {
   "cell_type": "markdown",
   "id": "1bc82e01",
   "metadata": {
    "papermill": {
     "duration": 0.014559,
     "end_time": "2022-09-21T09:13:07.261106",
     "exception": false,
     "start_time": "2022-09-21T09:13:07.246547",
     "status": "completed"
    },
    "tags": []
   },
   "source": [
    "### Exercise\n",
    "\n",
    "Compare the powers in gamma and alpha in different electrodes"
   ]
  },
  {
   "cell_type": "markdown",
   "id": "e101c6f0",
   "metadata": {
    "execution": {
     "iopub.execute_input": "2022-09-21T09:02:21.793518Z",
     "iopub.status.busy": "2022-09-21T09:02:21.793115Z",
     "iopub.status.idle": "2022-09-21T09:02:21.798734Z",
     "shell.execute_reply": "2022-09-21T09:02:21.797528Z",
     "shell.execute_reply.started": "2022-09-21T09:02:21.793485Z"
    },
    "papermill": {
     "duration": 0.014404,
     "end_time": "2022-09-21T09:13:07.290283",
     "exception": false,
     "start_time": "2022-09-21T09:13:07.275879",
     "status": "completed"
    },
    "tags": []
   },
   "source": [
    "## Tidy data (advanced)"
   ]
  },
  {
   "cell_type": "markdown",
   "id": "2ada6c8d",
   "metadata": {
    "papermill": {
     "duration": 0.014541,
     "end_time": "2022-09-21T09:13:07.319621",
     "exception": false,
     "start_time": "2022-09-21T09:13:07.305080",
     "status": "completed"
    },
    "tags": []
   },
   "source": [
    "In order to plot different freq bands and states on the same graphy, we need to reformat the data in the [tidy (long) format](https://seaborn.pydata.org/tutorial/data_structure.html#long-form-vs-wide-form-data). For example, we will use it to plot boxplots with mutliple bar hues: https://seaborn.pydata.org/generated/seaborn.boxplot.html "
   ]
  },
  {
   "cell_type": "code",
   "execution_count": 19,
   "id": "4dd15cf9",
   "metadata": {
    "papermill": {
     "duration": 0.491075,
     "end_time": "2022-09-21T09:13:07.826170",
     "exception": false,
     "start_time": "2022-09-21T09:13:07.335095",
     "status": "completed"
    },
    "tags": []
   },
   "outputs": [
    {
     "data": {
      "text/plain": [
       "<AxesSubplot:xlabel='band', ylabel='power'>"
      ]
     },
     "execution_count": 19,
     "metadata": {},
     "output_type": "execute_result"
    },
    {
     "data": {
      "image/png": "[encoded data removed]",
      "text/plain": [
       "<Figure size 432x288 with 1 Axes>"
      ]
     },
     "metadata": {
      "needs_background": "light"
     },
     "output_type": "display_data"
    }
   ],
   "source": [
    "# advanced\n",
    "\n",
    "df_tidy = df_log.melt(\n",
    "    id_vars=['subject', 'channel', 'state'],\n",
    "    value_vars=['alpha', 'delta', 'beta', 'gamma'],\n",
    "    var_name='band',\n",
    "    value_name='power')\n",
    "\n",
    "sns.boxplot(data=df_tidy, x=\"band\", y=\"power\", hue=\"state\")"
   ]
  },
  {
   "cell_type": "markdown",
   "id": "c7b65129",
   "metadata": {
    "papermill": {
     "duration": 0.014893,
     "end_time": "2022-09-21T09:13:07.856507",
     "exception": false,
     "start_time": "2022-09-21T09:13:07.841614",
     "status": "completed"
    },
    "tags": []
   },
   "source": [
    "## Splitting data"
   ]
  },
  {
   "cell_type": "code",
   "execution_count": 20,
   "id": "f1275c98",
   "metadata": {
    "papermill": {
     "duration": 0.432712,
     "end_time": "2022-09-21T09:13:08.304419",
     "exception": false,
     "start_time": "2022-09-21T09:13:07.871707",
     "status": "completed"
    },
    "tags": []
   },
   "outputs": [
    {
     "data": {
      "text/plain": [
       "<AxesSubplot:xlabel='channel', ylabel='alpha'>"
      ]
     },
     "execution_count": 20,
     "metadata": {},
     "output_type": "execute_result"
    },
    {
     "data": {
      "image/png": "[encoded data removed]",
      "text/plain": [
       "<Figure size 432x288 with 1 Axes>"
      ]
     },
     "metadata": {
      "needs_background": "light"
     },
     "output_type": "display_data"
    }
   ],
   "source": [
    "sns.boxplot(x='channel', y='alpha', data=df_log)"
   ]
  },
  {
   "cell_type": "code",
   "execution_count": 21,
   "id": "cf86b6fc",
   "metadata": {
    "papermill": {
     "duration": 0.026415,
     "end_time": "2022-09-21T09:13:08.347053",
     "exception": false,
     "start_time": "2022-09-21T09:13:08.320638",
     "status": "completed"
    },
    "tags": []
   },
   "outputs": [],
   "source": [
    "df_occ = df_log[df_log['channel'].isin(['O1', 'O2', 'P1', 'P2'])]"
   ]
  },
  {
   "cell_type": "code",
   "execution_count": 22,
   "id": "3914e464",
   "metadata": {
    "papermill": {
     "duration": 3.390505,
     "end_time": "2022-09-21T09:13:11.753118",
     "exception": false,
     "start_time": "2022-09-21T09:13:08.362613",
     "status": "completed"
    },
    "tags": []
   },
   "outputs": [
    {
     "data": {
      "text/plain": [
       "<seaborn.axisgrid.PairGrid at 0x7fb433c01c70>"
      ]
     },
     "execution_count": 22,
     "metadata": {},
     "output_type": "execute_result"
    },
    {
     "data": {
      "image/png": "[encoded data removed]",
      "text/plain": [
       "<Figure size 720x720 with 20 Axes>"
      ]
     },
     "metadata": {
      "needs_background": "light"
     },
     "output_type": "display_data"
    }
   ],
   "source": [
    "sns.pairplot(df_occ)"
   ]
  },
  {
   "cell_type": "markdown",
   "id": "f8616f77",
   "metadata": {
    "papermill": {
     "duration": 0.016181,
     "end_time": "2022-09-21T09:13:11.786097",
     "exception": false,
     "start_time": "2022-09-21T09:13:11.769916",
     "status": "completed"
    },
    "tags": []
   },
   "source": [
    "## Correlation heatmaps"
   ]
  },
  {
   "cell_type": "code",
   "execution_count": 23,
   "id": "d964b0a4",
   "metadata": {
    "papermill": {
     "duration": 0.02645,
     "end_time": "2022-09-21T09:13:11.828995",
     "exception": false,
     "start_time": "2022-09-21T09:13:11.802545",
     "status": "completed"
    },
    "tags": []
   },
   "outputs": [],
   "source": [
    "corrmat = df_occ[['delta', 'alpha', 'beta', 'gamma']].corr()"
   ]
  },
  {
   "cell_type": "code",
   "execution_count": 24,
   "id": "b5e18049",
   "metadata": {
    "papermill": {
     "duration": 0.355885,
     "end_time": "2022-09-21T09:13:12.201691",
     "exception": false,
     "start_time": "2022-09-21T09:13:11.845806",
     "status": "completed"
    },
    "tags": []
   },
   "outputs": [
    {
     "data": {
      "text/plain": [
       "<AxesSubplot:>"
      ]
     },
     "execution_count": 24,
     "metadata": {},
     "output_type": "execute_result"
    },
    {
     "data": {
      "image/png": "[encoded data removed]",
      "text/plain": [
       "<Figure size 432x288 with 2 Axes>"
      ]
     },
     "metadata": {
      "needs_background": "light"
     },
     "output_type": "display_data"
    }
   ],
   "source": [
    "sns.heatmap(corrmat, annot=True)"
   ]
  },
  {
   "cell_type": "markdown",
   "id": "c43685a9",
   "metadata": {
    "papermill": {
     "duration": 0.018797,
     "end_time": "2022-09-21T09:13:12.237866",
     "exception": false,
     "start_time": "2022-09-21T09:13:12.219069",
     "status": "completed"
    },
    "tags": []
   },
   "source": [
    "## Statistics"
   ]
  },
  {
   "cell_type": "code",
   "execution_count": 25,
   "id": "011c7851",
   "metadata": {
    "papermill": {
     "duration": 0.893289,
     "end_time": "2022-09-21T09:13:13.149234",
     "exception": false,
     "start_time": "2022-09-21T09:13:12.255945",
     "status": "completed"
    },
    "tags": []
   },
   "outputs": [],
   "source": [
    "import pandas as pd\n",
    "import statsmodels.api as sm\n",
    "from statsmodels.formula.api import ols"
   ]
  },
  {
   "cell_type": "code",
   "execution_count": 26,
   "id": "07153f81",
   "metadata": {
    "papermill": {
     "duration": 0.036582,
     "end_time": "2022-09-21T09:13:13.202623",
     "exception": false,
     "start_time": "2022-09-21T09:13:13.166041",
     "status": "completed"
    },
    "tags": []
   },
   "outputs": [],
   "source": [
    "lm = ols('delta ~ C(state)', data=df_log).fit()"
   ]
  },
  {
   "cell_type": "code",
   "execution_count": 27,
   "id": "63d30076",
   "metadata": {
    "papermill": {
     "duration": 0.043681,
     "end_time": "2022-09-21T09:13:13.263046",
     "exception": false,
     "start_time": "2022-09-21T09:13:13.219365",
     "status": "completed"
    },
    "tags": []
   },
   "outputs": [
    {
     "name": "stdout",
     "output_type": "stream",
     "text": [
      "             df       sum_sq    mean_sq         F    PR(>F)\n",
      "C(state)    2.0    28.216139  14.108070  1.363467  0.258071\n",
      "Residual  206.0  2131.523530  10.347202       NaN       NaN\n"
     ]
    }
   ],
   "source": [
    "print(sm.stats.anova_lm(lm, ))"
   ]
  },
  {
   "cell_type": "markdown",
   "id": "502ae0e7",
   "metadata": {
    "execution": {
     "iopub.execute_input": "2022-09-21T08:26:20.181179Z",
     "iopub.status.busy": "2022-09-21T08:26:20.180739Z",
     "iopub.status.idle": "2022-09-21T08:26:20.186192Z",
     "shell.execute_reply": "2022-09-21T08:26:20.184941Z",
     "shell.execute_reply.started": "2022-09-21T08:26:20.181142Z"
    },
    "papermill": {
     "duration": 0.016488,
     "end_time": "2022-09-21T09:13:13.296373",
     "exception": false,
     "start_time": "2022-09-21T09:13:13.279885",
     "status": "completed"
    },
    "tags": []
   },
   "source": [
    "## Clustering"
   ]
  },
  {
   "cell_type": "code",
   "execution_count": 28,
   "id": "7ce153f6",
   "metadata": {
    "papermill": {
     "duration": 0.423155,
     "end_time": "2022-09-21T09:13:13.737074",
     "exception": false,
     "start_time": "2022-09-21T09:13:13.313919",
     "status": "completed"
    },
    "tags": []
   },
   "outputs": [],
   "source": [
    "from sklearn import cluster"
   ]
  },
  {
   "cell_type": "code",
   "execution_count": 29,
   "id": "e8a7ee13",
   "metadata": {
    "papermill": {
     "duration": 0.06297,
     "end_time": "2022-09-21T09:13:13.817574",
     "exception": false,
     "start_time": "2022-09-21T09:13:13.754604",
     "status": "completed"
    },
    "tags": []
   },
   "outputs": [
    {
     "data": {
      "text/plain": [
       "KMeans(n_clusters=2)"
      ]
     },
     "execution_count": 29,
     "metadata": {},
     "output_type": "execute_result"
    }
   ],
   "source": [
    "kmeans = cluster.KMeans(n_clusters=2)\n",
    "kmeans.fit(df_log[['delta', 'alpha', 'beta', 'gamma']])"
   ]
  },
  {
   "cell_type": "code",
   "execution_count": 30,
   "id": "f765f10f",
   "metadata": {
    "papermill": {
     "duration": 0.02676,
     "end_time": "2022-09-21T09:13:13.861955",
     "exception": false,
     "start_time": "2022-09-21T09:13:13.835195",
     "status": "completed"
    },
    "tags": []
   },
   "outputs": [],
   "source": [
    "labels = kmeans.labels_"
   ]
  },
  {
   "cell_type": "code",
   "execution_count": 31,
   "id": "84088269",
   "metadata": {
    "papermill": {
     "duration": 0.296321,
     "end_time": "2022-09-21T09:13:14.175210",
     "exception": false,
     "start_time": "2022-09-21T09:13:13.878889",
     "status": "completed"
    },
    "tags": []
   },
   "outputs": [
    {
     "data": {
      "text/plain": [
       "<AxesSubplot:xlabel='alpha', ylabel='delta'>"
      ]
     },
     "execution_count": 31,
     "metadata": {},
     "output_type": "execute_result"
    },
    {
     "data": {
      "image/png": "[encoded data removed]",
      "text/plain": [
       "<Figure size 432x288 with 1 Axes>"
      ]
     },
     "metadata": {
      "needs_background": "light"
     },
     "output_type": "display_data"
    }
   ],
   "source": [
    "ax = df_log[labels==0].plot(kind='scatter', x='alpha', y='delta', c='r')\n",
    "df_log[labels==1].plot(kind='scatter', x='alpha', y='delta', c='b', ax=ax)"
   ]
  },
  {
   "cell_type": "markdown",
   "id": "2dd364e2",
   "metadata": {
    "papermill": {
     "duration": 0.017023,
     "end_time": "2022-09-21T09:13:14.210021",
     "exception": false,
     "start_time": "2022-09-21T09:13:14.192998",
     "status": "completed"
    },
    "tags": []
   },
   "source": [
    "##  Group-by -- revisited"
   ]
  },
  {
   "cell_type": "code",
   "execution_count": 32,
   "id": "d78604d0",
   "metadata": {
    "papermill": {
     "duration": 0.029716,
     "end_time": "2022-09-21T09:13:14.256986",
     "exception": false,
     "start_time": "2022-09-21T09:13:14.227270",
     "status": "completed"
    },
    "tags": []
   },
   "outputs": [],
   "source": [
    "df_labels = df_log.copy()\n",
    "df_labels['class'] = labels"
   ]
  },
  {
   "cell_type": "code",
   "execution_count": 33,
   "id": "809a5fa9",
   "metadata": {
    "papermill": {
     "duration": 0.032012,
     "end_time": "2022-09-21T09:13:14.306853",
     "exception": false,
     "start_time": "2022-09-21T09:13:14.274841",
     "status": "completed"
    },
    "tags": []
   },
   "outputs": [],
   "source": [
    "counts = df_labels.groupby('class')['channel'].value_counts()"
   ]
  },
  {
   "cell_type": "code",
   "execution_count": 34,
   "id": "b93117d3",
   "metadata": {
    "papermill": {
     "duration": 0.63581,
     "end_time": "2022-09-21T09:13:14.960196",
     "exception": false,
     "start_time": "2022-09-21T09:13:14.324386",
     "status": "completed"
    },
    "tags": []
   },
   "outputs": [
    {
     "data": {
      "text/plain": [
       "<AxesSubplot:xlabel='channel'>"
      ]
     },
     "execution_count": 34,
     "metadata": {},
     "output_type": "execute_result"
    },
    {
     "data": {
      "image/png": "[encoded data removed]",
      "text/plain": [
       "<Figure size 432x288 with 1 Axes>"
      ]
     },
     "metadata": {
      "needs_background": "light"
     },
     "output_type": "display_data"
    }
   ],
   "source": [
    "counts.unstack().T.plot.bar()"
   ]
  },
  {
   "cell_type": "code",
   "execution_count": null,
   "id": "d5ec95dd",
   "metadata": {
    "papermill": {
     "duration": 0.01699,
     "end_time": "2022-09-21T09:13:14.995602",
     "exception": false,
     "start_time": "2022-09-21T09:13:14.978612",
     "status": "completed"
    },
    "tags": []
   },
   "outputs": [],
   "source": []
  }
 ],
 "metadata": {
  "kernelspec": {
   "display_name": "Python 3 (ipykernel)",
   "language": "python",
   "name": "python3"
  },
  "language_info": {
   "codemirror_mode": {
    "name": "ipython",
    "version": 3
   },
   "file_extension": ".py",
   "mimetype": "text/x-python",
   "name": "python",
   "nbconvert_exporter": "python",
   "pygments_lexer": "ipython3",
   "version": "3.11.0"
  },
  "papermill": {
   "default_parameters": {},
   "duration": 22.617103,
   "end_time": "2022-09-21T09:13:16.339350",
   "environment_variables": {},
   "exception": null,
   "input_path": "__notebook__.ipynb",
   "output_path": "__notebook__.ipynb",
   "parameters": {},
   "start_time": "2022-09-21T09:12:53.722247",
   "version": "2.3.4"
  }
 },
 "nbformat": 4,
 "nbformat_minor": 5
}
